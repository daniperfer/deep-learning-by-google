{
 "cells": [
  {
   "cell_type": "markdown",
   "metadata": {},
   "source": [
    "Deep Learning\n",
    "=============\n",
    "\n",
    "Assignment 6\n",
    "------------\n",
    "Problem 2\n",
    "---------\n",
    "\n",
    "We want to train a LSTM over bigrams, that is pairs of consecutive characters like 'ab' instead of single characters like 'a'. Since the number of possible bigrams is large, feeding them directly to the LSTM using 1-hot encodings will lead to a very sparse representation that is very wasteful computationally.\n",
    "\n",
    "a- Introduce an embedding lookup on the inputs, and feed the embeddings to the LSTM cell instead of the inputs themselves.\n",
    "\n",
    "b- Write a bigram-based LSTM, modeled on the character LSTM of Problem 1.\n",
    "\n",
    "c- Introduce Dropout. For best practices on how to use Dropout in LSTMs, refer to this [article](http://arxiv.org/abs/1409.2329).\n"
   ]
  },
  {
   "cell_type": "code",
   "execution_count": 1,
   "metadata": {},
   "outputs": [],
   "source": [
    "# These are all the modules we'll be using later. Make sure you can import them\n",
    "# before proceeding further.\n",
    "from __future__ import print_function\n",
    "import os\n",
    "import numpy as np\n",
    "import random\n",
    "import string\n",
    "import tensorflow as tf\n",
    "import zipfile\n",
    "from six.moves import range\n",
    "from six.moves.urllib.request import urlretrieve"
   ]
  },
  {
   "cell_type": "code",
   "execution_count": 2,
   "metadata": {},
   "outputs": [
    {
     "name": "stdout",
     "output_type": "stream",
     "text": [
      "Found and verified text8.zip\n"
     ]
    }
   ],
   "source": [
    "url = 'http://mattmahoney.net/dc/'\n",
    "\n",
    "def maybe_download(filename, expected_bytes):\n",
    "  \"\"\"Download a file if not present, and make sure it's the right size.\"\"\"\n",
    "  if not os.path.exists(filename):\n",
    "    filename, _ = urlretrieve(url + filename, filename)\n",
    "  statinfo = os.stat(filename)\n",
    "  if statinfo.st_size == expected_bytes:\n",
    "    print('Found and verified %s' % filename)\n",
    "  else:\n",
    "    print(statinfo.st_size)\n",
    "    raise Exception(\n",
    "      'Failed to verify ' + filename + '. Can you get to it with a browser?')\n",
    "  return filename\n",
    "\n",
    "filename = maybe_download('text8.zip', 31344016)"
   ]
  },
  {
   "cell_type": "code",
   "execution_count": 3,
   "metadata": {},
   "outputs": [
    {
     "name": "stdout",
     "output_type": "stream",
     "text": [
      "Data size 100000000\n"
     ]
    }
   ],
   "source": [
    "# read characters\n",
    "def read_data(filename):\n",
    "  with zipfile.ZipFile(filename) as f:\n",
    "    name = f.namelist()[0]\n",
    "    data = tf.compat.as_str(f.read(name))\n",
    "  return data\n",
    "  \n",
    "text = read_data(filename)\n",
    "print('Data size %d' % len(text))"
   ]
  },
  {
   "cell_type": "markdown",
   "metadata": {},
   "source": [
    "Create a small validation set."
   ]
  },
  {
   "cell_type": "code",
   "execution_count": 4,
   "metadata": {},
   "outputs": [
    {
     "name": "stdout",
     "output_type": "stream",
     "text": [
      "99999000 ons anarchists advocate social relations based upon voluntary as\n",
      "1000  anarchism originated as a term of abuse first used against earl\n"
     ]
    }
   ],
   "source": [
    "valid_size = 1000\n",
    "valid_text = text[:valid_size]\n",
    "train_text = text[valid_size:]\n",
    "train_size = len(train_text)\n",
    "print(train_size, train_text[:64])\n",
    "print(valid_size, valid_text[:64])"
   ]
  },
  {
   "cell_type": "markdown",
   "metadata": {},
   "source": [
    "Should we construct a dictionary of bigrams? (like the word dictionary in word2vec assignment...)"
   ]
  },
  {
   "cell_type": "code",
   "execution_count": 26,
   "metadata": {},
   "outputs": [
    {
     "name": "stdout",
     "output_type": "stream",
     "text": [
      "vocabulary size = 27\n",
      "ascii_lowercase=\"abcdefghijklmnopqrstuvwxyz \"\n",
      "After removing double space, last is ' z'\n",
      "Final Bigram list length (728)\n",
      "Sample data  [0, 1, 2, 3, 4, 5, 6, 7, 8, 9]\n",
      "Dictionary entry ' s': 720\n",
      "Dictionary entry 'zi': 683\n",
      "Dictionary entry 'mi': 332\n",
      "Dictionary entry ' x': 725\n",
      "Dictionary entry 'ld': 300\n",
      "Dictionary entry 'sc': 488\n",
      "Dictionary entry 'gz': 187\n",
      "Dictionary entry 'iy': 240\n",
      "Dictionary entry 'na': 351\n",
      "Dictionary entry 'sm': 498\n",
      "Dictionary entry 'cj': 63\n",
      "rev Dictionary entry '0': aa\n",
      "rev Dictionary entry '1': ab\n",
      "rev Dictionary entry '2': ac\n",
      "rev Dictionary entry '3': ad\n",
      "rev Dictionary entry '4': ae\n",
      "rev Dictionary entry '5': af\n",
      "rev Dictionary entry '6': ag\n",
      "rev Dictionary entry '7': ah\n",
      "rev Dictionary entry '8': ai\n",
      "rev Dictionary entry '9': aj\n",
      "rev Dictionary entry '10': ak\n"
     ]
    }
   ],
   "source": [
    "vocabulary_size = len(string.ascii_lowercase) + 1 # [a-z] + ' '\n",
    "print(\"vocabulary size = {}\".format(vocabulary_size))\n",
    "first_letter = ord(string.ascii_lowercase[0])\n",
    "print(\"ascii_lowercase=\\\"{}\\\"\".format(string.ascii_lowercase+' '))\n",
    "\n",
    "bigram_list = []\n",
    "for first_char in string.ascii_lowercase+' ':\n",
    "    for second_char in string.ascii_lowercase+' ':\n",
    "        bigram_list.append(first_char+second_char)\n",
    "# print(\"Bigram list ({}) = \\n{}\".format(len(bigram_list),bigram_list))\n",
    "\n",
    "# remove bigram formed with two spaces '  '\n",
    "bigram_list = [ x for x in bigram_list if x != '  ']\n",
    "print(\"After removing double space, last is '{}'\".format(bigram_list[-1]))\n",
    "print(\"Final Bigram list length ({})\".format(len(bigram_list)))\n",
    "\n",
    "def build_bigram_dict(bigram_vocab):\n",
    "  dictionary = dict()\n",
    "  data_idx = list()\n",
    "  for bigram in bigram_vocab:\n",
    "    # len acts as index since it increases in each iteration\n",
    "    index = len(dictionary)\n",
    "    dictionary[bigram] = index\n",
    "    data_idx.append(index)\n",
    "  reverse_dictionary = dict(zip(dictionary.values(), dictionary.keys())) \n",
    "  return data_idx, dictionary, reverse_dictionary\n",
    "\n",
    "# data holds the dictionary index of each bigram in vocabulary\n",
    "# dictionary holds a list of bigrams, with their index within the dictionary\n",
    "# reverse dictionary has indices as key and bigrams as values\n",
    "data_idx, dictionary, reverse_dictionary = build_bigram_dict(bigram_list)\n",
    "\n",
    "print(\"Sample data \", data[:10])\n",
    "for (n, (k,v)) in enumerate(dictionary.items()):\n",
    "    print(\"Dictionary entry '{}': {}\".format(k, v))\n",
    "    if n >= 10:\n",
    "        break\n",
    "for (n, (k,v)) in enumerate(reverse_dictionary.items()):\n",
    "    print(\"rev Dictionary entry '{}': {}\".format(k, v))\n",
    "    if n >= 10:\n",
    "        break"
   ]
  },
  {
   "cell_type": "markdown",
   "metadata": {},
   "source": [
    "Function to generate a training batch for the LSTM model:\n",
    "- Batches should consist of a list of consecutive bigrams (like consecutive words in word2vec assignment...)\n",
    "- Can we generate them by extending the batch generation scheme in character LSTM?"
   ]
  },
  {
   "cell_type": "code",
   "execution_count": null,
   "metadata": {},
   "outputs": [],
   "source": [
    "# number of bigrams\n",
    "batch_size=64\n",
    "# numbre of connected LSTM units\n",
    "num_unrollings=10\n",
    "\n",
    "class BatchGenerator(object):\n",
    "  def __init__(self, text, batch_size, num_unrollings):\n",
    "    self._text = text\n",
    "    self._text_size = len(text)\n",
    "    self._batch_size = batch_size\n",
    "    self._num_unrollings = num_unrollings\n",
    "    segment = self._text_size // batch_size #floor division (integer division)\n",
    "    print(\"segment = {}\".format(segment))\n",
    "    # so, is segment the number of total batches that fits into the data text?\n",
    "    self._cursor = [ offset * segment for offset in range(batch_size)]\n",
    "    # there are batch_size cursor positions, but separated segment positions between them? Why?? Because it is large enough?\n",
    "    self._last_batch = self._next_batch()\n",
    "  \n",
    "  def _next_batch(self):\n",
    "    \"\"\"Generate a single batch from the current cursor position in the data.\"\"\"\n",
    "    # vocabulary is abecedary\n",
    "    batch = np.zeros(shape=(self._batch_size, vocabulary_size), dtype=np.float)\n",
    "    for b in range(self._batch_size):\n",
    "        # batch as one hot encoding\n",
    "      batch[b, char2id(self._text[self._cursor[b]])] = 1.0\n",
    "      self._cursor[b] = (self._cursor[b] + 1) % self._text_size\n",
    "    return batch\n",
    "  \n",
    "  def next(self):\n",
    "    \"\"\"Generate the next array of batches from the data. The array consists of\n",
    "    the last batch of the previous array, followed by num_unrollings new ones.\n",
    "    \"\"\"\n",
    "    batches = [self._last_batch]\n",
    "    for step in range(self._num_unrollings):\n",
    "      batches.append(self._next_batch())\n",
    "    self._last_batch = batches[-1]\n",
    "    return batches\n",
    "\n",
    "def characters(probabilities):\n",
    "  \"\"\"Turn a 1-hot encoding or a probability distribution over the possible\n",
    "  characters back into its (most likely) character representation.\"\"\"\n",
    "  # dimensions of input = probabilities.shape[0] (which actually is batch_size) X vocabulary_size \n",
    "  # dimensions of output = probabilities.shape[0] (which actually is batch_size)\n",
    "  return [id2char(c) for c in np.argmax(probabilities, 1)]\n",
    "\n",
    "def batches2string(batches):\n",
    "  \"\"\"Convert a sequence of batches back into their (most likely) string\n",
    "  representation.\"\"\"\n",
    "  s = [''] * batches[0].shape[0] # batch_size\n",
    "  for b in batches: # a list of length = _num_unrollings + 1 (the exta one is the last batch from previous generation)\n",
    "    s = [''.join(x) for x in zip(s, characters(b))]\n",
    "    # so s is a list of batch_size string elements of length _num_unrollings + 1\n",
    "  return s\n",
    "\n",
    "train_batches = BatchGenerator(train_text, batch_size, num_unrollings)\n",
    "valid_batches = BatchGenerator(valid_text, 1, 1)\n",
    "\n",
    "one_batch = batches2string(train_batches.next())\n",
    "print(\"{} --> len={}\".format(one_batch, len(one_batch)))\n",
    "print(batches2string(train_batches.next()))\n",
    "print(batches2string(valid_batches.next()))\n",
    "print(batches2string(valid_batches.next()))"
   ]
  }
 ],
 "metadata": {
  "kernelspec": {
   "display_name": "gurus3",
   "language": "python",
   "name": "gurus3"
  },
  "language_info": {
   "codemirror_mode": {
    "name": "ipython",
    "version": 3
   },
   "file_extension": ".py",
   "mimetype": "text/x-python",
   "name": "python",
   "nbconvert_exporter": "python",
   "pygments_lexer": "ipython3",
   "version": "3.4.3"
  }
 },
 "nbformat": 4,
 "nbformat_minor": 2
}
