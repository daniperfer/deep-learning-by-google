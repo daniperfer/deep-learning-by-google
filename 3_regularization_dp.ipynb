{
 "cells": [
  {
   "cell_type": "markdown",
   "metadata": {
    "colab_type": "text",
    "id": "kR-4eNdK6lYS"
   },
   "source": [
    "Deep Learning\n",
    "=============\n",
    "\n",
    "Assignment 3\n",
    "------------\n",
    "\n",
    "Previously in `2_fullyconnected.ipynb`, you trained a logistic regression and a neural network model.\n",
    "\n",
    "The goal of this assignment is to explore regularization techniques."
   ]
  },
  {
   "cell_type": "code",
   "execution_count": 1,
   "metadata": {
    "cellView": "both",
    "colab": {
     "autoexec": {
      "startup": false,
      "wait_interval": 0
     }
    },
    "colab_type": "code",
    "id": "JLpLa8Jt7Vu4"
   },
   "outputs": [],
   "source": [
    "# These are all the modules we'll be using later. Make sure you can import them\n",
    "# before proceeding further.\n",
    "from __future__ import print_function\n",
    "import numpy as np\n",
    "import tensorflow as tf\n",
    "from six.moves import cPickle as pickle"
   ]
  },
  {
   "cell_type": "markdown",
   "metadata": {
    "colab_type": "text",
    "id": "1HrCK6e17WzV"
   },
   "source": [
    "First reload the data we generated in `1_notmnist.ipynb`."
   ]
  },
  {
   "cell_type": "code",
   "execution_count": 2,
   "metadata": {
    "cellView": "both",
    "colab": {
     "autoexec": {
      "startup": false,
      "wait_interval": 0
     },
     "output_extras": [
      {
       "item_id": 1
      }
     ]
    },
    "colab_type": "code",
    "executionInfo": {
     "elapsed": 11777,
     "status": "ok",
     "timestamp": 1449849322348,
     "user": {
      "color": "",
      "displayName": "",
      "isAnonymous": false,
      "isMe": true,
      "permissionId": "",
      "photoUrl": "",
      "sessionId": "0",
      "userId": ""
     },
     "user_tz": 480
    },
    "id": "y3-cj1bpmuxc",
    "outputId": "e03576f1-ebbe-4838-c388-f1777bcc9873"
   },
   "outputs": [
    {
     "name": "stdout",
     "output_type": "stream",
     "text": [
      "Training set (200000, 28, 28) (200000,)\n",
      "Validation set (10000, 28, 28) (10000,)\n",
      "Test set (10000, 28, 28) (10000,)\n"
     ]
    }
   ],
   "source": [
    "pickle_file = 'notMNIST.pickle'\n",
    "\n",
    "with open(pickle_file, 'rb') as f:\n",
    "  save = pickle.load(f)\n",
    "  train_dataset = save['train_dataset']\n",
    "  train_labels = save['train_labels']\n",
    "  valid_dataset = save['valid_dataset']\n",
    "  valid_labels = save['valid_labels']\n",
    "  test_dataset = save['test_dataset']\n",
    "  test_labels = save['test_labels']\n",
    "  del save  # hint to help gc free up memory\n",
    "  print('Training set', train_dataset.shape, train_labels.shape)\n",
    "  print('Validation set', valid_dataset.shape, valid_labels.shape)\n",
    "  print('Test set', test_dataset.shape, test_labels.shape)"
   ]
  },
  {
   "cell_type": "markdown",
   "metadata": {
    "colab_type": "text",
    "id": "L7aHrm6nGDMB"
   },
   "source": [
    "Reformat into a shape that's more adapted to the models we're going to train:\n",
    "- data as a flat matrix,\n",
    "- labels as float 1-hot encodings."
   ]
  },
  {
   "cell_type": "code",
   "execution_count": 3,
   "metadata": {
    "cellView": "both",
    "colab": {
     "autoexec": {
      "startup": false,
      "wait_interval": 0
     },
     "output_extras": [
      {
       "item_id": 1
      }
     ]
    },
    "colab_type": "code",
    "executionInfo": {
     "elapsed": 11728,
     "status": "ok",
     "timestamp": 1449849322356,
     "user": {
      "color": "",
      "displayName": "",
      "isAnonymous": false,
      "isMe": true,
      "permissionId": "",
      "photoUrl": "",
      "sessionId": "0",
      "userId": ""
     },
     "user_tz": 480
    },
    "id": "IRSyYiIIGIzS",
    "outputId": "3f8996ee-3574-4f44-c953-5c8a04636582"
   },
   "outputs": [
    {
     "name": "stdout",
     "output_type": "stream",
     "text": [
      "Training set (200000, 784) (200000, 10)\n",
      "Validation set (10000, 784) (10000, 10)\n",
      "Test set (10000, 784) (10000, 10)\n"
     ]
    }
   ],
   "source": [
    "image_size = 28\n",
    "num_labels = 10\n",
    "\n",
    "def reformat(dataset, labels):\n",
    "  dataset = dataset.reshape((-1, image_size * image_size)).astype(np.float32)\n",
    "  # Map 1 to [0.0, 1.0, 0.0 ...], 2 to [0.0, 0.0, 1.0 ...]\n",
    "  labels = (np.arange(num_labels) == labels[:,None]).astype(np.float32)\n",
    "  return dataset, labels\n",
    "train_dataset, train_labels = reformat(train_dataset, train_labels)\n",
    "valid_dataset, valid_labels = reformat(valid_dataset, valid_labels)\n",
    "test_dataset, test_labels = reformat(test_dataset, test_labels)\n",
    "print('Training set', train_dataset.shape, train_labels.shape)\n",
    "print('Validation set', valid_dataset.shape, valid_labels.shape)\n",
    "print('Test set', test_dataset.shape, test_labels.shape)"
   ]
  },
  {
   "cell_type": "code",
   "execution_count": 4,
   "metadata": {
    "cellView": "both",
    "colab": {
     "autoexec": {
      "startup": false,
      "wait_interval": 0
     }
    },
    "colab_type": "code",
    "id": "RajPLaL_ZW6w"
   },
   "outputs": [],
   "source": [
    "def accuracy(predictions, labels):\n",
    "  return (100.0 * np.sum(np.argmax(predictions, 1) == np.argmax(labels, 1))\n",
    "          / predictions.shape[0])"
   ]
  },
  {
   "cell_type": "markdown",
   "metadata": {
    "colab_type": "text",
    "id": "sgLbUAQ1CW-1"
   },
   "source": [
    "---\n",
    "Problem 1\n",
    "---------\n",
    "\n",
    "Introduce and tune L2 regularization for both logistic and neural network models. Remember that L2 amounts to adding a penalty on the norm of the weights to the loss. In TensorFlow, you can compute the L2 loss for a tensor `t` using `nn.l2_loss(t)`. The right amount of regularization should improve your validation / test accuracy.\n",
    "\n",
    "---"
   ]
  },
  {
   "cell_type": "code",
   "execution_count": 5,
   "metadata": {},
   "outputs": [],
   "source": [
    "train_dataset_original = train_dataset\n",
    "train_labels_original = train_labels\n",
    "valid_dataset_original = valid_dataset\n",
    "valid_labels_original = valid_labels\n",
    "test_dataset_original = test_dataset\n",
    "test_labels_original = test_labels"
   ]
  },
  {
   "cell_type": "code",
   "execution_count": 6,
   "metadata": {},
   "outputs": [],
   "source": [
    "# Logistic Model\n",
    "\n",
    "batch_size = 128\n",
    "\n",
    "def logistic_model_train_test(batch_size, beta=1e-02, num_steps=3001):\n",
    "    graph = tf.Graph()\n",
    "    with graph.as_default():\n",
    "\n",
    "      # Input data. For the training data, we use a placeholder that will be fed\n",
    "      # at run time with a training minibatch.\n",
    "      tf_train_dataset = tf.placeholder(tf.float32,\n",
    "                                        shape=(batch_size, image_size * image_size))\n",
    "      tf_train_labels = tf.placeholder(tf.float32, shape=(batch_size, num_labels))\n",
    "      tf_valid_dataset = tf.constant(valid_dataset)\n",
    "      tf_test_dataset = tf.constant(test_dataset)\n",
    "\n",
    "      # Variables.\n",
    "      weights = tf.Variable(\n",
    "        tf.truncated_normal([image_size * image_size, num_labels]))\n",
    "      biases = tf.Variable(tf.zeros([num_labels]))\n",
    "\n",
    "      # Training computation.\n",
    "      logits = tf.matmul(tf_train_dataset, weights) + biases\n",
    "      loss = tf.reduce_mean(\n",
    "        tf.nn.softmax_cross_entropy_with_logits(labels=tf_train_labels, logits=logits))\n",
    "      # regularization\n",
    "      loss = loss + beta*tf.nn.l2_loss(weights)\n",
    "\n",
    "      # Optimizer.\n",
    "      optimizer = tf.train.GradientDescentOptimizer(0.5).minimize(loss)\n",
    "\n",
    "      # Predictions for the training, validation, and test data.\n",
    "      train_prediction = tf.nn.softmax(logits)\n",
    "      valid_prediction = tf.nn.softmax(\n",
    "        tf.matmul(tf_valid_dataset, weights) + biases)\n",
    "      test_prediction = tf.nn.softmax(tf.matmul(tf_test_dataset, weights) + biases)\n",
    "\n",
    "    ###############################################################################\n",
    "\n",
    "    config = tf.ConfigProto()\n",
    "    config.gpu_options.allow_growth = True\n",
    "    with tf.Session(graph=graph, config=config) as session:\n",
    "      tf.global_variables_initializer().run()\n",
    "      print(\"Initialized\")\n",
    "      for step in range(num_steps):\n",
    "        # Pick an offset within the training data, which has been randomized.\n",
    "        # Note: we could use better randomization across epochs.\n",
    "        offset = (step * batch_size) % (train_labels.shape[0] - batch_size)\n",
    "        # Generate a minibatch.\n",
    "        batch_data = train_dataset[offset:(offset + batch_size), :]\n",
    "        batch_labels = train_labels[offset:(offset + batch_size), :]\n",
    "        # Prepare a dictionary telling the session where to feed the minibatch.\n",
    "        # The key of the dictionary is the placeholder node of the graph to be fed,\n",
    "        # and the value is the numpy array to feed to it.\n",
    "        feed_dict = {tf_train_dataset : batch_data, tf_train_labels : batch_labels}\n",
    "        _, l, predictions = session.run(\n",
    "          [optimizer, loss, train_prediction], feed_dict=feed_dict)\n",
    "        if (step % 500 == 0):\n",
    "          print(\"Minibatch loss at step %d: %f\" % (step, l))\n",
    "          print(\"Minibatch accuracy: %.1f%%\" % accuracy(predictions, batch_labels))\n",
    "          print(\"Validation accuracy: %.1f%%\" % accuracy(\n",
    "            valid_prediction.eval(), valid_labels))\n",
    "      print(\"Test accuracy: %.1f%%\" % accuracy(test_prediction.eval(), test_labels))"
   ]
  },
  {
   "cell_type": "code",
   "execution_count": 7,
   "metadata": {},
   "outputs": [
    {
     "name": "stdout",
     "output_type": "stream",
     "text": [
      "Initialized\n",
      "Minibatch loss at step 0: 51.961105\n",
      "Minibatch accuracy: 8.6%\n",
      "Validation accuracy: 14.3%\n",
      "Minibatch loss at step 500: 1.181631\n",
      "Minibatch accuracy: 69.5%\n",
      "Validation accuracy: 80.9%\n",
      "Minibatch loss at step 1000: 0.808629\n",
      "Minibatch accuracy: 83.6%\n",
      "Validation accuracy: 81.7%\n",
      "Minibatch loss at step 1500: 0.725195\n",
      "Minibatch accuracy: 82.0%\n",
      "Validation accuracy: 81.5%\n",
      "Minibatch loss at step 2000: 0.760283\n",
      "Minibatch accuracy: 79.7%\n",
      "Validation accuracy: 81.3%\n",
      "Minibatch loss at step 2500: 0.804104\n",
      "Minibatch accuracy: 79.7%\n",
      "Validation accuracy: 81.3%\n",
      "Minibatch loss at step 3000: 0.849642\n",
      "Minibatch accuracy: 79.7%\n",
      "Validation accuracy: 81.1%\n",
      "Test accuracy: 87.4%\n"
     ]
    }
   ],
   "source": [
    "logistic_model_train_test(batch_size, 1e-02)"
   ]
  },
  {
   "cell_type": "markdown",
   "metadata": {},
   "source": [
    "Test accuracy with regularization ~ 87.4%\n",
    "\n",
    "Test accuracy without regularization ~ 84.6% (from assignment 2)"
   ]
  },
  {
   "cell_type": "code",
   "execution_count": 8,
   "metadata": {},
   "outputs": [],
   "source": [
    "# Neural network model\n",
    "\n",
    "batch_size = 128\n",
    "hidden_nodes = 1024\n",
    "\n",
    "def graph_computation(inputs, weights_1, biases_1, weights_2, biases_2, labels=None, dropout_keep_pb=1):\n",
    "    first_layer_out = tf.matmul(inputs, weights_1) + biases_1\n",
    "    relu_out = tf.nn.relu(first_layer_out)\n",
    "    # use dropout: https://www.tensorflow.org/get_started/mnist/pros\n",
    "    # if dropout_keep_pb == 1, all elements in Tensor are kept, otherwise dropout is applied\n",
    "    dropout_out = tf.nn.dropout(relu_out, dropout_keep_pb)\n",
    "    logits = tf.matmul(dropout_out, weights_2) + biases_2\n",
    "    if labels is not None:\n",
    "        loss = tf.reduce_mean(tf.nn.softmax_cross_entropy_with_logits(labels=labels, logits=logits))\n",
    "        return logits, loss\n",
    "    return logits, _\n",
    "\n",
    "def neural_network_model_train_test(batch_size, hidden_nodes, beta, keep_training_prob=1, num_steps=3001):\n",
    "    graph = tf.Graph()\n",
    "    with graph.as_default():\n",
    "      # Input data. For the training data, we use a placeholder that will be fed\n",
    "      # at run time with a training minibatch.\n",
    "      tf_train_dataset = tf.placeholder(tf.float32,\n",
    "                                        shape=(batch_size, image_size * image_size))\n",
    "      tf_train_labels = tf.placeholder(tf.float32, shape=(batch_size, num_labels))\n",
    "      tf_valid_dataset = tf.constant(valid_dataset)\n",
    "      tf_test_dataset = tf.constant(test_dataset)\n",
    "        \n",
    "      #dropout prob\n",
    "      keep_prob = tf.placeholder(tf.float32)\n",
    "\n",
    "      # Variables.\n",
    "      weights_1 = tf.Variable(\n",
    "        tf.truncated_normal([image_size * image_size, hidden_nodes]))\n",
    "      biases_1 = tf.Variable(tf.zeros([hidden_nodes]))\n",
    "\n",
    "      weights_2 = tf.Variable(\n",
    "        tf.truncated_normal([hidden_nodes, num_labels]))\n",
    "      biases_2 = tf.Variable(tf.zeros([num_labels]))\n",
    "\n",
    "      # Training computation.\n",
    "      logits, loss = graph_computation(tf_train_dataset, \n",
    "                                       weights_1, biases_1, weights_2, biases_2, \n",
    "                                       labels=tf_train_labels, dropout_keep_pb=keep_prob)\n",
    "      # regularization (if beta==0 we have no regularization term) \n",
    "      loss = loss + beta*tf.nn.l2_loss(weights_1) + beta*tf.nn.l2_loss(weights_2)\n",
    "\n",
    "      # Optimizer.\n",
    "      optimizer = tf.train.GradientDescentOptimizer(0.5).minimize(loss)\n",
    "\n",
    "      # Predictions for the training, validation, and test data.\n",
    "      train_prediction = tf.nn.softmax(logits)\n",
    "\n",
    "      valid_logits, _ = graph_computation(tf_valid_dataset, \n",
    "                                          weights_1, biases_1, weights_2, biases_2)\n",
    "      valid_prediction = tf.nn.softmax(valid_logits)\n",
    "\n",
    "      test_logits, _ = graph_computation(tf_test_dataset, \n",
    "                                          weights_1, biases_1, weights_2, biases_2)\n",
    "\n",
    "      test_prediction = tf.nn.softmax(test_logits)\n",
    "\n",
    "\n",
    "    config = tf.ConfigProto()\n",
    "    config.gpu_options.allow_growth = True\n",
    "    with tf.Session(graph=graph, config=config) as session:\n",
    "      tf.global_variables_initializer().run()\n",
    "      print(\"Initialized\")\n",
    "      for step in range(num_steps):\n",
    "        # Pick an offset within the training data, which has been randomized.\n",
    "        # Note: we could use better randomization across epochs.\n",
    "        offset = (step * batch_size) % (train_labels.shape[0] - batch_size)\n",
    "        # Generate a minibatch.\n",
    "        batch_data = train_dataset[offset:(offset + batch_size), :]\n",
    "        batch_labels = train_labels[offset:(offset + batch_size), :]\n",
    "        # Prepare a dictionary telling the session where to feed the minibatch.\n",
    "        # The key of the dictionary is the placeholder node of the graph to be fed,\n",
    "        # and the value is the numpy array to feed to it.\n",
    "        feed_dict = {tf_train_dataset : batch_data, tf_train_labels : batch_labels, keep_prob : keep_training_prob}\n",
    "        _, l, predictions = session.run(\n",
    "          [optimizer, loss, train_prediction], feed_dict=feed_dict)\n",
    "        if (step % 500 == 0):\n",
    "          print(\"Minibatch loss at step %d: %f\" % (step, l))\n",
    "          print(\"Minibatch accuracy: %.1f%%\" % accuracy(predictions, batch_labels))\n",
    "          print(\"Validation accuracy: %.1f%%\" % accuracy(\n",
    "            valid_prediction.eval(), valid_labels))\n",
    "      print(\"Test accuracy: %.1f%%\" % accuracy(test_prediction.eval(), test_labels))"
   ]
  },
  {
   "cell_type": "code",
   "execution_count": 9,
   "metadata": {},
   "outputs": [
    {
     "name": "stdout",
     "output_type": "stream",
     "text": [
      "Initialized\n",
      "Minibatch loss at step 0: 715.210327\n",
      "Minibatch accuracy: 4.7%\n",
      "Validation accuracy: 32.5%\n",
      "Minibatch loss at step 500: 201.939026\n",
      "Minibatch accuracy: 75.0%\n",
      "Validation accuracy: 78.2%\n",
      "Minibatch loss at step 1000: 114.155663\n",
      "Minibatch accuracy: 86.7%\n",
      "Validation accuracy: 82.7%\n",
      "Minibatch loss at step 1500: 68.577736\n",
      "Minibatch accuracy: 85.9%\n",
      "Validation accuracy: 82.1%\n",
      "Minibatch loss at step 2000: 41.379742\n",
      "Minibatch accuracy: 83.6%\n",
      "Validation accuracy: 85.1%\n",
      "Minibatch loss at step 2500: 25.388046\n",
      "Minibatch accuracy: 86.7%\n",
      "Validation accuracy: 86.2%\n",
      "Minibatch loss at step 3000: 15.552467\n",
      "Minibatch accuracy: 82.8%\n",
      "Validation accuracy: 86.9%\n",
      "Test accuracy: 92.7%\n"
     ]
    }
   ],
   "source": [
    "neural_network_model_train_test(batch_size, hidden_nodes, 1e-03)"
   ]
  },
  {
   "cell_type": "markdown",
   "metadata": {},
   "source": [
    "Test accuracy with regularization ~ 92.7%\n",
    "\n",
    "Test accuracy without regularization ~ 87% (from assignment 2)"
   ]
  },
  {
   "cell_type": "markdown",
   "metadata": {
    "colab_type": "text",
    "id": "na8xX2yHZzNF"
   },
   "source": [
    "---\n",
    "Problem 2\n",
    "---------\n",
    "Let's demonstrate an extreme case of overfitting. Restrict your training data to just a few batches. What happens?\n",
    "\n",
    "Note the difference between Minibatch accuracy and Validation and Testing accuracies\n",
    "\n",
    "Minibatch accuracies reach 100%, while validation and Testing accuracies drops to ~60%, ~70%\n",
    "\n",
    "And Test accuracies drop respect to using the whole original dataset (see Problem 1 accuracies)\n",
    "\n",
    "---"
   ]
  },
  {
   "cell_type": "code",
   "execution_count": 10,
   "metadata": {},
   "outputs": [],
   "source": [
    "# Restrict your training data to just a few batches\n",
    "train_dataset = train_dataset_original[:batch_size*2]\n",
    "train_labels = train_labels_original[:batch_size*2]\n",
    "valid_dataset = valid_dataset_original[:batch_size*2]\n",
    "valid_labels = valid_labels_original[:batch_size*2]\n",
    "test_dataset = test_dataset_original[:batch_size*2]\n",
    "test_labels = test_labels_original[:batch_size*2]"
   ]
  },
  {
   "cell_type": "code",
   "execution_count": 11,
   "metadata": {},
   "outputs": [
    {
     "name": "stdout",
     "output_type": "stream",
     "text": [
      "Initialized\n",
      "Minibatch loss at step 0: 46.801533\n",
      "Minibatch accuracy: 11.7%\n",
      "Validation accuracy: 14.1%\n",
      "Minibatch loss at step 500: 0.316294\n",
      "Minibatch accuracy: 100.0%\n",
      "Validation accuracy: 64.8%\n",
      "Minibatch loss at step 1000: 0.120715\n",
      "Minibatch accuracy: 100.0%\n",
      "Validation accuracy: 65.2%\n",
      "Minibatch loss at step 1500: 0.119184\n",
      "Minibatch accuracy: 100.0%\n",
      "Validation accuracy: 64.8%\n",
      "Minibatch loss at step 2000: 0.118989\n",
      "Minibatch accuracy: 100.0%\n",
      "Validation accuracy: 64.8%\n",
      "Minibatch loss at step 2500: 0.118851\n",
      "Minibatch accuracy: 100.0%\n",
      "Validation accuracy: 64.5%\n",
      "Minibatch loss at step 3000: 0.118750\n",
      "Minibatch accuracy: 100.0%\n",
      "Validation accuracy: 64.5%\n",
      "Test accuracy: 82.8%\n"
     ]
    }
   ],
   "source": [
    "logistic_model_train_test(batch_size, 1e-02, 3001)"
   ]
  },
  {
   "cell_type": "code",
   "execution_count": 12,
   "metadata": {},
   "outputs": [
    {
     "name": "stdout",
     "output_type": "stream",
     "text": [
      "Initialized\n",
      "Minibatch loss at step 0: 583.121704\n",
      "Minibatch accuracy: 11.7%\n",
      "Validation accuracy: 33.6%\n",
      "Minibatch loss at step 500: 190.537430\n",
      "Minibatch accuracy: 100.0%\n",
      "Validation accuracy: 64.5%\n",
      "Minibatch loss at step 1000: 115.552414\n",
      "Minibatch accuracy: 100.0%\n",
      "Validation accuracy: 64.8%\n",
      "Minibatch loss at step 1500: 70.077324\n",
      "Minibatch accuracy: 100.0%\n",
      "Validation accuracy: 65.2%\n",
      "Minibatch loss at step 2000: 42.498714\n",
      "Minibatch accuracy: 100.0%\n",
      "Validation accuracy: 65.6%\n",
      "Minibatch loss at step 2500: 25.773546\n",
      "Minibatch accuracy: 100.0%\n",
      "Validation accuracy: 66.0%\n",
      "Minibatch loss at step 3000: 15.630507\n",
      "Minibatch accuracy: 100.0%\n",
      "Validation accuracy: 66.4%\n",
      "Test accuracy: 79.3%\n"
     ]
    }
   ],
   "source": [
    "neural_network_model_train_test(batch_size, hidden_nodes, 1e-03)"
   ]
  },
  {
   "cell_type": "markdown",
   "metadata": {
    "colab_type": "text",
    "id": "ww3SCBUdlkRc"
   },
   "source": [
    "---\n",
    "Problem 3\n",
    "---------\n",
    "Introduce Dropout on the hidden layer of the neural network. Remember: Dropout should only be introduced during training, not evaluation, otherwise your evaluation results would be stochastic as well. TensorFlow provides `nn.dropout()` for that, but you have to make sure it's only inserted during training.\n",
    "\n",
    "What happens to our extreme overfitting case?\n",
    "\n",
    "If we use Dropout while removing L2 regularization, the network keeps overfitting, although not as much as the case with no dropout but L2 regularization (Training acc vs. Validation acc is 100% vs. ~70.3% ). The test accuracy is better than the case with no dropout but L2 regularization ( ~75.8% vs. ~84.0%). Minibatch loss is 0 from step 500 to the end of training.\n",
    "\n",
    "If we use Dropout while keeping L2 regularization, the network keeps overfitting (Training acc vs. Validation acc is 100% vs. ~68.0% ). However, Minibatch loss does not reach the zero value in any iteration. Test accuracy is slightly different from the previous case (which applies Dropout and no L2 regularization); sometimes is better than the previous case and sometimes is worse.\n",
    "\n",
    "---"
   ]
  },
  {
   "cell_type": "code",
   "execution_count": 13,
   "metadata": {},
   "outputs": [
    {
     "name": "stdout",
     "output_type": "stream",
     "text": [
      "Initialized\n",
      "Minibatch loss at step 0: 526.441162\n",
      "Minibatch accuracy: 8.6%\n",
      "Validation accuracy: 29.3%\n",
      "Minibatch loss at step 500: 0.000000\n",
      "Minibatch accuracy: 100.0%\n",
      "Validation accuracy: 66.8%\n",
      "Minibatch loss at step 1000: 0.000000\n",
      "Minibatch accuracy: 100.0%\n",
      "Validation accuracy: 67.6%\n",
      "Minibatch loss at step 1500: 0.000000\n",
      "Minibatch accuracy: 100.0%\n",
      "Validation accuracy: 68.0%\n",
      "Minibatch loss at step 2000: 0.000000\n",
      "Minibatch accuracy: 100.0%\n",
      "Validation accuracy: 66.8%\n",
      "Minibatch loss at step 2500: 0.000000\n",
      "Minibatch accuracy: 100.0%\n",
      "Validation accuracy: 67.6%\n",
      "Minibatch loss at step 3000: 0.000000\n",
      "Minibatch accuracy: 100.0%\n",
      "Validation accuracy: 68.0%\n",
      "Test accuracy: 82.0%\n"
     ]
    }
   ],
   "source": [
    "# Use Dropout without regularization \n",
    "neural_network_model_train_test(batch_size, hidden_nodes, 0, keep_training_prob=0.5)"
   ]
  },
  {
   "cell_type": "code",
   "execution_count": 14,
   "metadata": {},
   "outputs": [
    {
     "name": "stdout",
     "output_type": "stream",
     "text": [
      "Initialized\n",
      "Minibatch loss at step 0: 762.987549\n",
      "Minibatch accuracy: 7.0%\n",
      "Validation accuracy: 39.8%\n",
      "Minibatch loss at step 500: 191.642883\n",
      "Minibatch accuracy: 100.0%\n",
      "Validation accuracy: 66.8%\n",
      "Minibatch loss at step 1000: 116.228081\n",
      "Minibatch accuracy: 100.0%\n",
      "Validation accuracy: 68.0%\n",
      "Minibatch loss at step 1500: 70.490662\n",
      "Minibatch accuracy: 100.0%\n",
      "Validation accuracy: 68.0%\n",
      "Minibatch loss at step 2000: 42.751842\n",
      "Minibatch accuracy: 100.0%\n",
      "Validation accuracy: 68.8%\n",
      "Minibatch loss at step 2500: 26.011810\n",
      "Minibatch accuracy: 99.2%\n",
      "Validation accuracy: 68.4%\n",
      "Minibatch loss at step 3000: 15.724291\n",
      "Minibatch accuracy: 100.0%\n",
      "Validation accuracy: 68.0%\n",
      "Test accuracy: 84.4%\n"
     ]
    }
   ],
   "source": [
    "# Use Dropout with regularization \n",
    "neural_network_model_train_test(batch_size, hidden_nodes, 1e-03, keep_training_prob=0.5)"
   ]
  },
  {
   "cell_type": "markdown",
   "metadata": {
    "colab_type": "text",
    "id": "-b1hTz3VWZjw"
   },
   "source": [
    "---\n",
    "Problem 4\n",
    "---------\n",
    "\n",
    "Try to get the best performance you can using a multi-layer model! The best reported test accuracy using a deep network is [97.1%](http://yaroslavvb.blogspot.com/2011/09/notmnist-dataset.html?showComment=1391023266211#c8758720086795711595).\n",
    "\n",
    "One avenue you can explore is to add multiple layers.\n",
    "\n",
    "Another one is to use learning rate decay:\n",
    "\n",
    "    global_step = tf.Variable(0)  # count the number of steps taken.\n",
    "    learning_rate = tf.train.exponential_decay(0.5, global_step, ...)\n",
    "    optimizer = tf.train.GradientDescentOptimizer(learning_rate).minimize(loss, global_step=global_step)\n",
    " \n",
    " ---\n"
   ]
  },
  {
   "cell_type": "code",
   "execution_count": 15,
   "metadata": {},
   "outputs": [],
   "source": [
    "# Restore original data\n",
    "train_dataset = train_dataset_original\n",
    "train_labels = train_labels_original\n",
    "valid_dataset = valid_dataset_original\n",
    "valid_labels = valid_labels_original\n",
    "test_dataset = test_dataset_original\n",
    "test_labels = test_labels_original"
   ]
  },
  {
   "cell_type": "code",
   "execution_count": 23,
   "metadata": {},
   "outputs": [],
   "source": [
    "# Neural network model with learning rate decay and a second hidden layer\n",
    "\n",
    "def graph_computation_layer1(inputs, weights_1, biases_1):\n",
    "    first_layer_out = tf.matmul(inputs, weights_1) + biases_1\n",
    "    relu_out = tf.nn.relu(first_layer_out)\n",
    "    return relu_out\n",
    "\n",
    "def graph_computation_layer2(inputs, weights_1, biases_1, weights_2, biases_2, labels=None, dropout_keep_pb=1):\n",
    "    first_layer_out = tf.matmul(inputs, weights_1) + biases_1\n",
    "    relu_out = tf.nn.relu(first_layer_out)\n",
    "    # use dropout: https://www.tensorflow.org/get_started/mnist/pros\n",
    "    # if dropout_keep_pb == 1, all elements in Tensor are kept, otherwise dropout is applied\n",
    "    dropout_out = tf.nn.dropout(relu_out, dropout_keep_pb)\n",
    "    logits = tf.matmul(dropout_out, weights_2) + biases_2\n",
    "    if labels is not None:\n",
    "        loss = tf.reduce_mean(tf.nn.softmax_cross_entropy_with_logits(labels=labels, logits=logits))\n",
    "        return logits, loss\n",
    "    return logits, _\n",
    "\n",
    "def neural_network_model2_train_test(batch_size, hidden_nodes, betas=None, keep_training_prob=1, num_steps=3001, lr0=None):\n",
    "    \"\"\"\n",
    "    hidden_nodes: must be a list with two values\n",
    "    betas: must be a list containing three values, one for each of the three weights matrix \n",
    "    \"\"\"\n",
    "    graph = tf.Graph()\n",
    "    with graph.as_default():\n",
    "      # Input data. For the training data, we use a placeholder that will be fed\n",
    "      # at run time with a training minibatch.\n",
    "      tf_train_dataset = tf.placeholder(tf.float32,\n",
    "                                        shape=(batch_size, image_size * image_size))\n",
    "      tf_train_labels = tf.placeholder(tf.float32, shape=(batch_size, num_labels))\n",
    "      tf_valid_dataset = tf.constant(valid_dataset)\n",
    "      tf_test_dataset = tf.constant(test_dataset)\n",
    "        \n",
    "      #dropout prob\n",
    "      keep_prob = tf.placeholder(tf.float32)\n",
    "\n",
    "      # Variables.\n",
    "      weights_1 = tf.Variable(\n",
    "        tf.truncated_normal([image_size * image_size, hidden_nodes[0]]))\n",
    "      biases_1 = tf.Variable(tf.zeros([hidden_nodes[0]]))\n",
    "    \n",
    "      \n",
    "        \n",
    "      weights_2 = tf.Variable(\n",
    "        tf.truncated_normal([hidden_nodes[0], hidden_nodes[1]]))\n",
    "      biases_2 = tf.Variable(tf.zeros([hidden_nodes[1]]))\n",
    "\n",
    "      weights_3 = tf.Variable(\n",
    "        tf.truncated_normal([hidden_nodes[1], num_labels]))\n",
    "      biases_3 = tf.Variable(tf.zeros([num_labels]))\n",
    "\n",
    "      # Training computation.\n",
    "      first_layer_out = graph_computation_layer1(tf_train_dataset, weights_1, biases_1)\n",
    "      logits, loss = graph_computation_layer2(first_layer_out, \n",
    "                                       weights_2, biases_2, weights_3, biases_3, \n",
    "                                       labels=tf_train_labels, dropout_keep_pb=keep_prob)\n",
    "      # regularization (if betas==None we have no regularization term)\n",
    "      if (betas is None):\n",
    "        betas = [0, 0, 0]\n",
    "      loss = loss + betas[0]*tf.nn.l2_loss(weights_1) + betas[1]*tf.nn.l2_loss(weights_2) + betas[2]*tf.nn.l2_loss(weights_3)\n",
    "\n",
    "      # Optimizer.\n",
    "      if lr0 == None:\n",
    "        optimizer = tf.train.GradientDescentOptimizer(0.5).minimize(loss)\n",
    "      else:\n",
    "        global_step = tf.Variable(0)  # count the number of steps taken\n",
    "        learning_rate = tf.train.exponential_decay(lr0, global_step, 1000, 0.95)\n",
    "        optimizer = tf.train.GradientDescentOptimizer(learning_rate).minimize(loss, global_step=global_step)\n",
    "\n",
    "      # Predictions for the training, validation, and test data.\n",
    "      train_prediction = tf.nn.softmax(logits)\n",
    "      \n",
    "      partial_computation_v = graph_computation_layer1(tf_valid_dataset, weights_1, biases_1)\n",
    "      valid_logits, _ = graph_computation_layer2(partial_computation_v, \n",
    "                                          weights_2, biases_2, weights_3, biases_3)\n",
    "      valid_prediction = tf.nn.softmax(valid_logits)\n",
    "\n",
    "      partial_computation = graph_computation_layer1(tf_test_dataset, weights_1, biases_1)\n",
    "      test_logits, _ = graph_computation_layer2(partial_computation, \n",
    "                                          weights_2, biases_2, weights_3, biases_3)\n",
    "\n",
    "      test_prediction = tf.nn.softmax(test_logits)\n",
    "\n",
    "\n",
    "    config = tf.ConfigProto()\n",
    "    config.gpu_options.allow_growth = True\n",
    "    with tf.Session(graph=graph, config=config) as session:\n",
    "      tf.global_variables_initializer().run()\n",
    "      print(\"Initialized\")\n",
    "      for step in range(num_steps):\n",
    "        # Pick an offset within the training data, which has been randomized.\n",
    "        # Note: we could use better randomization across epochs.\n",
    "        offset = (step * batch_size) % (train_labels.shape[0] - batch_size)\n",
    "        # Generate a minibatch.\n",
    "        batch_data = train_dataset[offset:(offset + batch_size), :]\n",
    "        batch_labels = train_labels[offset:(offset + batch_size), :]\n",
    "        # Prepare a dictionary telling the session where to feed the minibatch.\n",
    "        # The key of the dictionary is the placeholder node of the graph to be fed,\n",
    "        # and the value is the numpy array to feed to it.\n",
    "        feed_dict = {tf_train_dataset : batch_data, tf_train_labels : batch_labels, keep_prob : keep_training_prob}\n",
    "        _, l, predictions = session.run(\n",
    "          [optimizer, loss, train_prediction], feed_dict=feed_dict)\n",
    "        if (step % 1000 == 0):\n",
    "          print(\"Minibatch loss at step %d: %f\" % (step, l))\n",
    "          print(\"Minibatch accuracy: %.1f%%\" % accuracy(predictions, batch_labels))\n",
    "          print(\"Validation accuracy: %.1f%%\" % accuracy(\n",
    "            valid_prediction.eval(), valid_labels))\n",
    "      print(\"Test accuracy: %.1f%%\" % accuracy(test_prediction.eval(), test_labels))"
   ]
  },
  {
   "cell_type": "code",
   "execution_count": 32,
   "metadata": {},
   "outputs": [
    {
     "name": "stdout",
     "output_type": "stream",
     "text": [
      "Initialized\n",
      "Minibatch loss at step 0: 4168.687500\n",
      "Minibatch accuracy: 10.2%\n",
      "Validation accuracy: 17.6%\n",
      "Minibatch loss at step 1000: 1744.224976\n",
      "Minibatch accuracy: 18.0%\n",
      "Validation accuracy: 17.3%\n",
      "Minibatch loss at step 2000: 1005.779358\n",
      "Minibatch accuracy: 23.4%\n",
      "Validation accuracy: 28.7%\n",
      "Minibatch loss at step 3000: 597.887512\n",
      "Minibatch accuracy: 39.1%\n",
      "Validation accuracy: 37.1%\n",
      "Minibatch loss at step 4000: 366.133545\n",
      "Minibatch accuracy: 45.3%\n",
      "Validation accuracy: 42.4%\n",
      "Minibatch loss at step 5000: 231.222717\n",
      "Minibatch accuracy: 50.0%\n",
      "Validation accuracy: 52.9%\n",
      "Minibatch loss at step 6000: 150.562973\n",
      "Minibatch accuracy: 67.2%\n",
      "Validation accuracy: 64.2%\n",
      "Minibatch loss at step 7000: 100.988342\n",
      "Minibatch accuracy: 67.2%\n",
      "Validation accuracy: 72.4%\n",
      "Minibatch loss at step 8000: 69.890175\n",
      "Minibatch accuracy: 71.9%\n",
      "Validation accuracy: 70.8%\n",
      "Minibatch loss at step 9000: 50.261005\n",
      "Minibatch accuracy: 73.4%\n",
      "Validation accuracy: 77.5%\n",
      "Minibatch loss at step 10000: 37.232098\n",
      "Minibatch accuracy: 76.6%\n",
      "Validation accuracy: 79.0%\n",
      "Minibatch loss at step 11000: 28.435669\n",
      "Minibatch accuracy: 82.0%\n",
      "Validation accuracy: 81.6%\n",
      "Minibatch loss at step 12000: 22.457100\n",
      "Minibatch accuracy: 81.2%\n",
      "Validation accuracy: 82.4%\n",
      "Minibatch loss at step 13000: 18.346111\n",
      "Minibatch accuracy: 81.2%\n",
      "Validation accuracy: 83.4%\n",
      "Minibatch loss at step 14000: 15.179390\n",
      "Minibatch accuracy: 86.7%\n",
      "Validation accuracy: 83.8%\n",
      "Minibatch loss at step 15000: 13.129755\n",
      "Minibatch accuracy: 85.2%\n",
      "Validation accuracy: 84.7%\n",
      "Minibatch loss at step 16000: 11.684476\n",
      "Minibatch accuracy: 83.6%\n",
      "Validation accuracy: 85.0%\n",
      "Minibatch loss at step 17000: 10.385737\n",
      "Minibatch accuracy: 83.6%\n",
      "Validation accuracy: 85.7%\n",
      "Minibatch loss at step 18000: 9.576345\n",
      "Minibatch accuracy: 82.8%\n",
      "Validation accuracy: 86.3%\n",
      "Minibatch loss at step 19000: 8.622730\n",
      "Minibatch accuracy: 92.2%\n",
      "Validation accuracy: 86.5%\n",
      "Minibatch loss at step 20000: 8.067329\n",
      "Minibatch accuracy: 91.4%\n",
      "Validation accuracy: 86.6%\n",
      "Test accuracy: 92.7%\n"
     ]
    }
   ],
   "source": [
    "# Additional hidden layer\n",
    "neural_network_model2_train_test(128, hidden_nodes=[1024, 32], betas=[1e-02, 1e-03, 1e-04], keep_training_prob=1, num_steps=20001, lr0=0.03)"
   ]
  },
  {
   "cell_type": "markdown",
   "metadata": {},
   "source": [
    "### Conclusion Problem 4\n",
    "\n",
    "Need to test different values for neural_network_model2_train_test input arguments, and also for tf.train.exponential_decay\n",
    "\n",
    "Deeper net --> more training steps, less learning rate, less beta (regularization parameter)\n",
    "\n",
    "\n",
    "tf.train.exponential_decay(lr0, global_step, 1000, 0.90, staircase=True)\n",
    "\n",
    "hidden nodes layer 2: 512\n",
    "\n",
    "beta=1e-04, keep_training_prob=0.5, num_steps=10000, lr0=0.075 --> Test acc: 29.3%\n",
    "\n",
    "beta=1e-04, keep_training_prob=0.5, num_steps=10000, lr0=0.055 --> Test acc: 45.3%\n",
    "\n",
    "beta=1e-04, keep_training_prob=1, num_steps=10000, lr0=0.055 --> Test acc: 60.1%\n",
    "\n",
    "beta=1e-05, keep_training_prob=1, num_steps=10000, lr0=0.055 --> Test acc: 72.6%\n",
    "\n",
    "beta=1e-05, keep_training_prob=1, num_steps=10000, lr0=0.025 --> Test acc: 75.0%\n",
    "\n",
    "beta=1e-06, keep_training_prob=1, num_steps=10000, lr0=0.025 --> Test acc: 76.5%\n",
    "\n",
    "beta=1e-06, keep_training_prob=1, num_steps=10000, lr0=0.01 --> Test acc: 75.5%\n",
    "\n",
    "hidden nodes layer 2: 256\n",
    "\n",
    "beta=1e-06, keep_training_prob=1, num_steps=10000, lr0=0.01 --> Test acc: 73.8%\n",
    "\n",
    "beta=1e-07, keep_training_prob=1, num_steps=10000, lr0=0.01 --> Test acc: 74.0%\n",
    "\n",
    "beta=1e-07, keep_training_prob=1, num_steps=10000, lr0=0.005 --> Test acc: 76.2%\n",
    "\n",
    "beta=1e-07, keep_training_prob=1, num_steps=10000, lr0=0.001 --> Test acc: 84.0%\n",
    "\n",
    "beta=1e-07, keep_training_prob=1, num_steps=20000, lr0=0.001 --> Test acc: 83.5%\n",
    "\n",
    "beta=1e-07, keep_training_prob=1, num_steps=20000, lr0=0.0005 --> Test acc: 84.5%\n",
    "\n",
    "beta=1e-06, keep_training_prob=1, num_steps=10000, lr0=0.001 --> Test acc: 83%\n",
    "\n",
    "change exponential decay: \n",
    "\n",
    "tf.train.exponential_decay(lr0, global_step, 1000, 0.65)\n",
    "\n",
    "beta=1e-06, keep_training_prob=1, num_steps=10000, lr0=0.001 --> Test acc: 84.7%\n",
    "\n",
    "beta=1e-06, keep_training_prob=1, num_steps=10000, lr0=0.01 --> Test acc: 67%\n",
    "\n",
    "change betas: multiply beta3 times 1e-02\n",
    "\n",
    "beta=1e-02, keep_training_prob=1, num_steps=10000, lr0=0.001 --> Test acc: 85.1%\n",
    "\n",
    "tf.train.exponential_decay(lr0, global_step, 1000, 0.95)\n",
    "\n",
    "beta=1e-02, keep_training_prob=1, num_steps=10001, lr0=0.001 --> Test acc: 83.4%\n",
    "\n",
    "beta=1e-02, keep_training_prob=1, num_steps=10001, lr0=0.01 --> Test acc: 82.8%\n",
    "\n",
    "beta=1e-02, keep_training_prob=1, num_steps=15001, lr0=0.01 --> Test acc: 85.8%\n",
    "\n",
    "beta=1e-02, keep_training_prob=1, num_steps=20001, lr0=0.01 --> Test acc: 87.6%\n",
    "\n",
    "beta=1e-02, keep_training_prob=1, num_steps=20001, lr0=0.025 --> Test acc: 92.1%\n",
    "\n",
    "https://discussions.udacity.com/t/assignment-3-problem-4/46128/4 ?\n",
    "\n",
    "change: hidden_nodes provided as list, and betas also provided as a list\n",
    "\n",
    "hidden_nodes=[1024, 512], betas=[1e-02, 1e-02, 1e-04], keep_training_prob=1, num_steps=20001, lr0=0.025: Test: 92.5%\n",
    "\n",
    "hidden_nodes=[1024, 256], betas=[1e-02, 1e-02, 1e-04], keep_training_prob=1, num_steps=15001, lr0=0.03: Test: 92.1%\n",
    "\n",
    "hidden_nodes=[1024, 128], betas=[1e-02, 1e-02, 1e-04], keep_training_prob=1, num_steps=15001, lr0=0.03: Test 92.3%\n",
    "\n",
    "hidden_nodes=[1024, 64], betas=[1e-02, 1e-02, 1e-04], keep_training_prob=1, num_steps=18001, lr0=0.03; Test: 92.4%\n",
    "\n",
    "hidden_nodes=[1024, 64], betas=[1e-01, 1e-02, 1e-03], keep_training_prob=1, num_steps=18001, lr0=0.03; Test: 91.3%\n",
    "\n",
    "hidden_nodes=[1024, 64], betas=[1e-02, 1e-03, 1e-04], keep_training_prob=1, num_steps=18001, lr0=0.03; Test: 91.8%\n",
    "\n",
    "hidden_nodes=[1024, 64], betas=[1e-03, 1e-04, 1e-05], keep_training_prob=1, num_steps=20001, lr0=0.03; Test: 67.8%\n",
    "\n",
    "hidden_nodes=[1024, 64], betas=[1e-02, 1e-03, 1e-04], keep_training_prob=1, num_steps=20001, lr0=0.03; Test: 92.6%\n",
    "\n",
    "hidden_nodes=[1024, 32], betas=[1e-02, 1e-03, 1e-04], keep_training_prob=1, num_steps=20001, lr0=0.03; Test: 92.7%"
   ]
  }
 ],
 "metadata": {
  "colab": {
   "default_view": {},
   "name": "3_regularization.ipynb",
   "provenance": [],
   "version": "0.3.2",
   "views": {}
  },
  "kernelspec": {
   "display_name": "gurus3",
   "language": "python",
   "name": "gurus3"
  },
  "language_info": {
   "codemirror_mode": {
    "name": "ipython",
    "version": 3
   },
   "file_extension": ".py",
   "mimetype": "text/x-python",
   "name": "python",
   "nbconvert_exporter": "python",
   "pygments_lexer": "ipython3",
   "version": "3.4.3"
  }
 },
 "nbformat": 4,
 "nbformat_minor": 1
}
