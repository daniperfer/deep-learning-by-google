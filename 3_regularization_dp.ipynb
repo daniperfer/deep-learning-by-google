{
 "cells": [
  {
   "cell_type": "markdown",
   "metadata": {
    "colab_type": "text",
    "id": "kR-4eNdK6lYS"
   },
   "source": [
    "Deep Learning\n",
    "=============\n",
    "\n",
    "Assignment 3\n",
    "------------\n",
    "\n",
    "Previously in `2_fullyconnected.ipynb`, you trained a logistic regression and a neural network model.\n",
    "\n",
    "The goal of this assignment is to explore regularization techniques."
   ]
  },
  {
   "cell_type": "code",
   "execution_count": 3,
   "metadata": {
    "cellView": "both",
    "colab": {
     "autoexec": {
      "startup": false,
      "wait_interval": 0
     }
    },
    "colab_type": "code",
    "id": "JLpLa8Jt7Vu4"
   },
   "outputs": [],
   "source": [
    "# These are all the modules we'll be using later. Make sure you can import them\n",
    "# before proceeding further.\n",
    "from __future__ import print_function\n",
    "import numpy as np\n",
    "import tensorflow as tf\n",
    "from six.moves import cPickle as pickle"
   ]
  },
  {
   "cell_type": "markdown",
   "metadata": {
    "colab_type": "text",
    "id": "1HrCK6e17WzV"
   },
   "source": [
    "First reload the data we generated in `1_notmnist.ipynb`."
   ]
  },
  {
   "cell_type": "code",
   "execution_count": 4,
   "metadata": {
    "cellView": "both",
    "colab": {
     "autoexec": {
      "startup": false,
      "wait_interval": 0
     },
     "output_extras": [
      {
       "item_id": 1
      }
     ]
    },
    "colab_type": "code",
    "executionInfo": {
     "elapsed": 11777,
     "status": "ok",
     "timestamp": 1449849322348,
     "user": {
      "color": "",
      "displayName": "",
      "isAnonymous": false,
      "isMe": true,
      "permissionId": "",
      "photoUrl": "",
      "sessionId": "0",
      "userId": ""
     },
     "user_tz": 480
    },
    "id": "y3-cj1bpmuxc",
    "outputId": "e03576f1-ebbe-4838-c388-f1777bcc9873"
   },
   "outputs": [
    {
     "name": "stdout",
     "output_type": "stream",
     "text": [
      "Training set (200000, 28, 28) (200000,)\n",
      "Validation set (10000, 28, 28) (10000,)\n",
      "Test set (10000, 28, 28) (10000,)\n"
     ]
    }
   ],
   "source": [
    "pickle_file = 'notMNIST.pickle'\n",
    "\n",
    "with open(pickle_file, 'rb') as f:\n",
    "  save = pickle.load(f)\n",
    "  train_dataset = save['train_dataset']\n",
    "  train_labels = save['train_labels']\n",
    "  valid_dataset = save['valid_dataset']\n",
    "  valid_labels = save['valid_labels']\n",
    "  test_dataset = save['test_dataset']\n",
    "  test_labels = save['test_labels']\n",
    "  del save  # hint to help gc free up memory\n",
    "  print('Training set', train_dataset.shape, train_labels.shape)\n",
    "  print('Validation set', valid_dataset.shape, valid_labels.shape)\n",
    "  print('Test set', test_dataset.shape, test_labels.shape)"
   ]
  },
  {
   "cell_type": "markdown",
   "metadata": {
    "colab_type": "text",
    "id": "L7aHrm6nGDMB"
   },
   "source": [
    "Reformat into a shape that's more adapted to the models we're going to train:\n",
    "- data as a flat matrix,\n",
    "- labels as float 1-hot encodings."
   ]
  },
  {
   "cell_type": "code",
   "execution_count": 5,
   "metadata": {
    "cellView": "both",
    "colab": {
     "autoexec": {
      "startup": false,
      "wait_interval": 0
     },
     "output_extras": [
      {
       "item_id": 1
      }
     ]
    },
    "colab_type": "code",
    "executionInfo": {
     "elapsed": 11728,
     "status": "ok",
     "timestamp": 1449849322356,
     "user": {
      "color": "",
      "displayName": "",
      "isAnonymous": false,
      "isMe": true,
      "permissionId": "",
      "photoUrl": "",
      "sessionId": "0",
      "userId": ""
     },
     "user_tz": 480
    },
    "id": "IRSyYiIIGIzS",
    "outputId": "3f8996ee-3574-4f44-c953-5c8a04636582"
   },
   "outputs": [
    {
     "name": "stdout",
     "output_type": "stream",
     "text": [
      "Training set (200000, 784) (200000, 10)\n",
      "Validation set (10000, 784) (10000, 10)\n",
      "Test set (10000, 784) (10000, 10)\n"
     ]
    }
   ],
   "source": [
    "image_size = 28\n",
    "num_labels = 10\n",
    "\n",
    "def reformat(dataset, labels):\n",
    "  dataset = dataset.reshape((-1, image_size * image_size)).astype(np.float32)\n",
    "  # Map 1 to [0.0, 1.0, 0.0 ...], 2 to [0.0, 0.0, 1.0 ...]\n",
    "  labels = (np.arange(num_labels) == labels[:,None]).astype(np.float32)\n",
    "  return dataset, labels\n",
    "train_dataset, train_labels = reformat(train_dataset, train_labels)\n",
    "valid_dataset, valid_labels = reformat(valid_dataset, valid_labels)\n",
    "test_dataset, test_labels = reformat(test_dataset, test_labels)\n",
    "print('Training set', train_dataset.shape, train_labels.shape)\n",
    "print('Validation set', valid_dataset.shape, valid_labels.shape)\n",
    "print('Test set', test_dataset.shape, test_labels.shape)"
   ]
  },
  {
   "cell_type": "code",
   "execution_count": 6,
   "metadata": {
    "cellView": "both",
    "colab": {
     "autoexec": {
      "startup": false,
      "wait_interval": 0
     }
    },
    "colab_type": "code",
    "id": "RajPLaL_ZW6w"
   },
   "outputs": [],
   "source": [
    "def accuracy(predictions, labels):\n",
    "  return (100.0 * np.sum(np.argmax(predictions, 1) == np.argmax(labels, 1))\n",
    "          / predictions.shape[0])"
   ]
  },
  {
   "cell_type": "markdown",
   "metadata": {
    "colab_type": "text",
    "id": "sgLbUAQ1CW-1"
   },
   "source": [
    "---\n",
    "Problem 1\n",
    "---------\n",
    "\n",
    "Introduce and tune L2 regularization for both logistic and neural network models. Remember that L2 amounts to adding a penalty on the norm of the weights to the loss. In TensorFlow, you can compute the L2 loss for a tensor `t` using `nn.l2_loss(t)`. The right amount of regularization should improve your validation / test accuracy.\n",
    "\n",
    "---"
   ]
  },
  {
   "cell_type": "code",
   "execution_count": 7,
   "metadata": {},
   "outputs": [],
   "source": [
    "train_dataset_original = train_dataset\n",
    "train_labels_original = train_labels\n",
    "valid_dataset_original = valid_dataset\n",
    "valid_labels_original = valid_labels\n",
    "test_dataset_original = test_dataset\n",
    "test_labels_original = test_labels"
   ]
  },
  {
   "cell_type": "code",
   "execution_count": 8,
   "metadata": {},
   "outputs": [],
   "source": [
    "# Logistic Model\n",
    "\n",
    "batch_size = 128\n",
    "\n",
    "def logistic_model_train_test(batch_size, beta=1e-02, num_steps=3001):\n",
    "    graph = tf.Graph()\n",
    "    with graph.as_default():\n",
    "\n",
    "      # Input data. For the training data, we use a placeholder that will be fed\n",
    "      # at run time with a training minibatch.\n",
    "      tf_train_dataset = tf.placeholder(tf.float32,\n",
    "                                        shape=(batch_size, image_size * image_size))\n",
    "      tf_train_labels = tf.placeholder(tf.float32, shape=(batch_size, num_labels))\n",
    "      tf_valid_dataset = tf.constant(valid_dataset)\n",
    "      tf_test_dataset = tf.constant(test_dataset)\n",
    "\n",
    "      # Variables.\n",
    "      weights = tf.Variable(\n",
    "        tf.truncated_normal([image_size * image_size, num_labels]))\n",
    "      biases = tf.Variable(tf.zeros([num_labels]))\n",
    "\n",
    "      # Training computation.\n",
    "      logits = tf.matmul(tf_train_dataset, weights) + biases\n",
    "      loss = tf.reduce_mean(\n",
    "        tf.nn.softmax_cross_entropy_with_logits(labels=tf_train_labels, logits=logits))\n",
    "      # regularization\n",
    "      loss = loss + beta*tf.nn.l2_loss(weights)\n",
    "\n",
    "      # Optimizer.\n",
    "      optimizer = tf.train.GradientDescentOptimizer(0.5).minimize(loss)\n",
    "\n",
    "      # Predictions for the training, validation, and test data.\n",
    "      train_prediction = tf.nn.softmax(logits)\n",
    "      valid_prediction = tf.nn.softmax(\n",
    "        tf.matmul(tf_valid_dataset, weights) + biases)\n",
    "      test_prediction = tf.nn.softmax(tf.matmul(tf_test_dataset, weights) + biases)\n",
    "\n",
    "    ###############################################################################\n",
    "\n",
    "    config = tf.ConfigProto()\n",
    "    config.gpu_options.allow_growth = True\n",
    "    with tf.Session(graph=graph, config=config) as session:\n",
    "      tf.global_variables_initializer().run()\n",
    "      print(\"Initialized\")\n",
    "      for step in range(num_steps):\n",
    "        # Pick an offset within the training data, which has been randomized.\n",
    "        # Note: we could use better randomization across epochs.\n",
    "        offset = (step * batch_size) % (train_labels.shape[0] - batch_size)\n",
    "        # Generate a minibatch.\n",
    "        batch_data = train_dataset[offset:(offset + batch_size), :]\n",
    "        batch_labels = train_labels[offset:(offset + batch_size), :]\n",
    "        # Prepare a dictionary telling the session where to feed the minibatch.\n",
    "        # The key of the dictionary is the placeholder node of the graph to be fed,\n",
    "        # and the value is the numpy array to feed to it.\n",
    "        feed_dict = {tf_train_dataset : batch_data, tf_train_labels : batch_labels}\n",
    "        _, l, predictions = session.run(\n",
    "          [optimizer, loss, train_prediction], feed_dict=feed_dict)\n",
    "        if (step % 500 == 0):\n",
    "          print(\"Minibatch loss at step %d: %f\" % (step, l))\n",
    "          print(\"Minibatch accuracy: %.1f%%\" % accuracy(predictions, batch_labels))\n",
    "          print(\"Validation accuracy: %.1f%%\" % accuracy(\n",
    "            valid_prediction.eval(), valid_labels))\n",
    "      print(\"Test accuracy: %.1f%%\" % accuracy(test_prediction.eval(), test_labels))"
   ]
  },
  {
   "cell_type": "code",
   "execution_count": 9,
   "metadata": {},
   "outputs": [
    {
     "name": "stdout",
     "output_type": "stream",
     "text": [
      "Initialized\n",
      "Minibatch loss at step 0: 49.423347\n",
      "Minibatch accuracy: 12.5%\n",
      "Validation accuracy: 11.5%\n",
      "Minibatch loss at step 500: 1.153514\n",
      "Minibatch accuracy: 69.5%\n",
      "Validation accuracy: 81.0%\n",
      "Minibatch loss at step 1000: 0.809160\n",
      "Minibatch accuracy: 83.6%\n",
      "Validation accuracy: 81.7%\n",
      "Minibatch loss at step 1500: 0.725187\n",
      "Minibatch accuracy: 82.0%\n",
      "Validation accuracy: 81.5%\n",
      "Minibatch loss at step 2000: 0.760339\n",
      "Minibatch accuracy: 79.7%\n",
      "Validation accuracy: 81.3%\n",
      "Minibatch loss at step 2500: 0.804090\n",
      "Minibatch accuracy: 79.7%\n",
      "Validation accuracy: 81.3%\n",
      "Minibatch loss at step 3000: 0.849645\n",
      "Minibatch accuracy: 79.7%\n",
      "Validation accuracy: 81.1%\n",
      "Test accuracy: 87.4%\n"
     ]
    }
   ],
   "source": [
    "logistic_model_train_test(batch_size, 1e-02)"
   ]
  },
  {
   "cell_type": "markdown",
   "metadata": {},
   "source": [
    "Test accuracy with regularization ~ 87.4%\n",
    "\n",
    "Test accuracy without regularization ~ 84.6% (from assignment 2)"
   ]
  },
  {
   "cell_type": "code",
   "execution_count": 10,
   "metadata": {},
   "outputs": [],
   "source": [
    "# Neural network model\n",
    "\n",
    "batch_size = 128\n",
    "hidden_nodes = 1024\n",
    "\n",
    "def graph_computation(inputs, weights_1, biases_1, weights_2, biases_2, labels=None, dropout_keep_pb=1):\n",
    "    first_layer_out = tf.matmul(inputs, weights_1) + biases_1\n",
    "    relu_out = tf.nn.relu(first_layer_out)\n",
    "    # use dropout: https://www.tensorflow.org/get_started/mnist/pros\n",
    "    # if dropout_keep_pb == 1, all elements in Tensor are kept, otherwise dropout is applied\n",
    "    dropout_out = tf.nn.dropout(relu_out, dropout_keep_pb)\n",
    "    logits = tf.matmul(dropout_out, weights_2) + biases_2\n",
    "    if labels is not None:\n",
    "        loss = tf.reduce_mean(tf.nn.softmax_cross_entropy_with_logits(labels=labels, logits=logits))\n",
    "        return logits, loss\n",
    "    return logits, _\n",
    "\n",
    "def neural_network_model_train_test(batch_size, hidden_nodes, beta, keep_training_prob=1, num_steps=3001):\n",
    "    graph = tf.Graph()\n",
    "    with graph.as_default():\n",
    "      # Input data. For the training data, we use a placeholder that will be fed\n",
    "      # at run time with a training minibatch.\n",
    "      tf_train_dataset = tf.placeholder(tf.float32,\n",
    "                                        shape=(batch_size, image_size * image_size))\n",
    "      tf_train_labels = tf.placeholder(tf.float32, shape=(batch_size, num_labels))\n",
    "      tf_valid_dataset = tf.constant(valid_dataset)\n",
    "      tf_test_dataset = tf.constant(test_dataset)\n",
    "        \n",
    "      #dropout prob\n",
    "      keep_prob = tf.placeholder(tf.float32)\n",
    "\n",
    "      # Variables.\n",
    "      weights_1 = tf.Variable(\n",
    "        tf.truncated_normal([image_size * image_size, hidden_nodes]))\n",
    "      biases_1 = tf.Variable(tf.zeros([hidden_nodes]))\n",
    "\n",
    "      weights_2 = tf.Variable(\n",
    "        tf.truncated_normal([hidden_nodes, num_labels]))\n",
    "      biases_2 = tf.Variable(tf.zeros([num_labels]))\n",
    "\n",
    "      # Training computation.\n",
    "      logits, loss = graph_computation(tf_train_dataset, \n",
    "                                       weights_1, biases_1, weights_2, biases_2, \n",
    "                                       labels=tf_train_labels, dropout_keep_pb=keep_prob)\n",
    "      # regularization (if beta==0 we have no regularization term) \n",
    "      loss = loss + beta*tf.nn.l2_loss(weights_1) + beta*tf.nn.l2_loss(weights_2)\n",
    "\n",
    "      # Optimizer.\n",
    "      optimizer = tf.train.GradientDescentOptimizer(0.5).minimize(loss)\n",
    "\n",
    "      # Predictions for the training, validation, and test data.\n",
    "      train_prediction = tf.nn.softmax(logits)\n",
    "\n",
    "      valid_logits, _ = graph_computation(tf_valid_dataset, \n",
    "                                          weights_1, biases_1, weights_2, biases_2)\n",
    "      valid_prediction = tf.nn.softmax(valid_logits)\n",
    "\n",
    "      test_logits, _ = graph_computation(tf_test_dataset, \n",
    "                                          weights_1, biases_1, weights_2, biases_2)\n",
    "\n",
    "      test_prediction = tf.nn.softmax(test_logits)\n",
    "\n",
    "\n",
    "    config = tf.ConfigProto()\n",
    "    config.gpu_options.allow_growth = True\n",
    "    with tf.Session(graph=graph, config=config) as session:\n",
    "      tf.global_variables_initializer().run()\n",
    "      print(\"Initialized\")\n",
    "      for step in range(num_steps):\n",
    "        # Pick an offset within the training data, which has been randomized.\n",
    "        # Note: we could use better randomization across epochs.\n",
    "        offset = (step * batch_size) % (train_labels.shape[0] - batch_size)\n",
    "        # Generate a minibatch.\n",
    "        batch_data = train_dataset[offset:(offset + batch_size), :]\n",
    "        batch_labels = train_labels[offset:(offset + batch_size), :]\n",
    "        # Prepare a dictionary telling the session where to feed the minibatch.\n",
    "        # The key of the dictionary is the placeholder node of the graph to be fed,\n",
    "        # and the value is the numpy array to feed to it.\n",
    "        feed_dict = {tf_train_dataset : batch_data, tf_train_labels : batch_labels, keep_prob : keep_training_prob}\n",
    "        _, l, predictions = session.run(\n",
    "          [optimizer, loss, train_prediction], feed_dict=feed_dict)\n",
    "        if (step % 500 == 0):\n",
    "          print(\"Minibatch loss at step %d: %f\" % (step, l))\n",
    "          print(\"Minibatch accuracy: %.1f%%\" % accuracy(predictions, batch_labels))\n",
    "          print(\"Validation accuracy: %.1f%%\" % accuracy(\n",
    "            valid_prediction.eval(), valid_labels))\n",
    "      print(\"Test accuracy: %.1f%%\" % accuracy(test_prediction.eval(), test_labels))"
   ]
  },
  {
   "cell_type": "code",
   "execution_count": 11,
   "metadata": {},
   "outputs": [
    {
     "name": "stdout",
     "output_type": "stream",
     "text": [
      "Initialized\n",
      "Minibatch loss at step 0: 635.442383\n",
      "Minibatch accuracy: 7.0%\n",
      "Validation accuracy: 32.2%\n",
      "Minibatch loss at step 500: 216.260727\n",
      "Minibatch accuracy: 73.4%\n",
      "Validation accuracy: 79.9%\n",
      "Minibatch loss at step 1000: 114.180809\n",
      "Minibatch accuracy: 84.4%\n",
      "Validation accuracy: 81.1%\n",
      "Minibatch loss at step 1500: 68.782860\n",
      "Minibatch accuracy: 85.9%\n",
      "Validation accuracy: 81.8%\n",
      "Minibatch loss at step 2000: 41.310707\n",
      "Minibatch accuracy: 85.9%\n",
      "Validation accuracy: 85.1%\n",
      "Minibatch loss at step 2500: 25.273529\n",
      "Minibatch accuracy: 85.9%\n",
      "Validation accuracy: 86.3%\n",
      "Minibatch loss at step 3000: 15.534159\n",
      "Minibatch accuracy: 85.9%\n",
      "Validation accuracy: 87.0%\n",
      "Test accuracy: 93.0%\n"
     ]
    }
   ],
   "source": [
    "neural_network_model_train_test(batch_size, hidden_nodes, 1e-03)"
   ]
  },
  {
   "cell_type": "markdown",
   "metadata": {},
   "source": [
    "Test accuracy with regularization ~ 92.7%\n",
    "\n",
    "Test accuracy without regularization ~ 87% (from assignment 2)"
   ]
  },
  {
   "cell_type": "markdown",
   "metadata": {
    "colab_type": "text",
    "id": "na8xX2yHZzNF"
   },
   "source": [
    "---\n",
    "Problem 2\n",
    "---------\n",
    "Let's demonstrate an extreme case of overfitting. Restrict your training data to just a few batches. What happens?\n",
    "\n",
    "Note the difference between Minibatch accuracy and Validation and Testing accuracies\n",
    "\n",
    "Minibatch accuracies reach 100%, while validation and Testing accuracies drops to ~60%, ~70%\n",
    "\n",
    "And Test accuracies drop respect to using the whole original dataset (see Problem 1 accuracies)\n",
    "\n",
    "---"
   ]
  },
  {
   "cell_type": "code",
   "execution_count": 22,
   "metadata": {},
   "outputs": [],
   "source": [
    "# Restrict your training data to just a few batches\n",
    "train_dataset = train_dataset_original[:batch_size*2]\n",
    "train_labels = train_labels_original[:batch_size*2]\n",
    "valid_dataset = valid_dataset_original[:batch_size*2]\n",
    "valid_labels = valid_labels_original[:batch_size*2]\n",
    "test_dataset = test_dataset_original[:batch_size*2]\n",
    "test_labels = test_labels_original[:batch_size*2]"
   ]
  },
  {
   "cell_type": "code",
   "execution_count": 23,
   "metadata": {},
   "outputs": [
    {
     "name": "stdout",
     "output_type": "stream",
     "text": [
      "Initialized\n",
      "Minibatch loss at step 0: 47.355331\n",
      "Minibatch accuracy: 8.6%\n",
      "Validation accuracy: 10.9%\n",
      "Minibatch loss at step 500: 0.310720\n",
      "Minibatch accuracy: 100.0%\n",
      "Validation accuracy: 66.4%\n",
      "Minibatch loss at step 1000: 0.120772\n",
      "Minibatch accuracy: 100.0%\n",
      "Validation accuracy: 65.2%\n",
      "Minibatch loss at step 1500: 0.119235\n",
      "Minibatch accuracy: 100.0%\n",
      "Validation accuracy: 64.8%\n",
      "Minibatch loss at step 2000: 0.119014\n",
      "Minibatch accuracy: 100.0%\n",
      "Validation accuracy: 65.2%\n",
      "Minibatch loss at step 2500: 0.118861\n",
      "Minibatch accuracy: 100.0%\n",
      "Validation accuracy: 64.8%\n",
      "Minibatch loss at step 3000: 0.118751\n",
      "Minibatch accuracy: 100.0%\n",
      "Validation accuracy: 64.5%\n",
      "Test accuracy: 83.2%\n"
     ]
    }
   ],
   "source": [
    "logistic_model_train_test(batch_size, 1e-02, 3001)"
   ]
  },
  {
   "cell_type": "code",
   "execution_count": 24,
   "metadata": {},
   "outputs": [
    {
     "name": "stdout",
     "output_type": "stream",
     "text": [
      "Initialized\n",
      "Minibatch loss at step 0: 727.726074\n",
      "Minibatch accuracy: 4.7%\n",
      "Validation accuracy: 25.0%\n",
      "Minibatch loss at step 500: 191.230865\n",
      "Minibatch accuracy: 100.0%\n",
      "Validation accuracy: 62.1%\n",
      "Minibatch loss at step 1000: 115.972839\n",
      "Minibatch accuracy: 100.0%\n",
      "Validation accuracy: 62.1%\n",
      "Minibatch loss at step 1500: 70.332260\n",
      "Minibatch accuracy: 100.0%\n",
      "Validation accuracy: 61.7%\n",
      "Minibatch loss at step 2000: 42.653366\n",
      "Minibatch accuracy: 100.0%\n",
      "Validation accuracy: 61.7%\n",
      "Minibatch loss at step 2500: 25.867340\n",
      "Minibatch accuracy: 100.0%\n",
      "Validation accuracy: 61.7%\n",
      "Minibatch loss at step 3000: 15.687430\n",
      "Minibatch accuracy: 100.0%\n",
      "Validation accuracy: 62.1%\n",
      "Test accuracy: 75.8%\n"
     ]
    }
   ],
   "source": [
    "neural_network_model_train_test(batch_size, hidden_nodes, 1e-03)"
   ]
  },
  {
   "cell_type": "markdown",
   "metadata": {
    "colab_type": "text",
    "id": "ww3SCBUdlkRc"
   },
   "source": [
    "---\n",
    "Problem 3\n",
    "---------\n",
    "Introduce Dropout on the hidden layer of the neural network. Remember: Dropout should only be introduced during training, not evaluation, otherwise your evaluation results would be stochastic as well. TensorFlow provides `nn.dropout()` for that, but you have to make sure it's only inserted during training.\n",
    "\n",
    "What happens to our extreme overfitting case?\n",
    "\n",
    "If we use Dropout while removing L2 regularization, the network keeps overfitting, although not as much as the case with no dropout but L2 regularization (Training acc vs. Validation acc is 100% vs. ~70.3% ). The test accuracy is better than the case with no dropout but L2 regularization ( ~75.8% vs. ~84.0%). Minibatch loss is 0 from step 500 to the end of training.\n",
    "\n",
    "If we use Dropout while keeping L2 regularization, the network keeps overfitting (Training acc vs. Validation acc is 100% vs. ~68.0% ). However, Minibatch loss does not reach the zero value in any iteration. Test accuracy is slightly different from the previous case (which applies Dropout and no L2 regularization); sometimes is better than the previous case and sometimes is worse.\n",
    "\n",
    "---"
   ]
  },
  {
   "cell_type": "code",
   "execution_count": 28,
   "metadata": {},
   "outputs": [
    {
     "name": "stdout",
     "output_type": "stream",
     "text": [
      "Initialized\n",
      "Minibatch loss at step 0: 423.567749\n",
      "Minibatch accuracy: 17.2%\n",
      "Validation accuracy: 31.2%\n",
      "Minibatch loss at step 500: 0.000000\n",
      "Minibatch accuracy: 100.0%\n",
      "Validation accuracy: 69.5%\n",
      "Minibatch loss at step 1000: 0.000000\n",
      "Minibatch accuracy: 100.0%\n",
      "Validation accuracy: 68.8%\n",
      "Minibatch loss at step 1500: 0.000000\n",
      "Minibatch accuracy: 100.0%\n",
      "Validation accuracy: 67.2%\n",
      "Minibatch loss at step 2000: 0.000000\n",
      "Minibatch accuracy: 100.0%\n",
      "Validation accuracy: 68.0%\n",
      "Minibatch loss at step 2500: 0.000000\n",
      "Minibatch accuracy: 100.0%\n",
      "Validation accuracy: 68.0%\n",
      "Minibatch loss at step 3000: 0.000000\n",
      "Minibatch accuracy: 100.0%\n",
      "Validation accuracy: 68.8%\n",
      "Test accuracy: 83.2%\n"
     ]
    }
   ],
   "source": [
    "# Use Dropout without regularization \n",
    "neural_network_model_train_test(batch_size, hidden_nodes, 0, keep_training_prob=0.5)"
   ]
  },
  {
   "cell_type": "code",
   "execution_count": 29,
   "metadata": {},
   "outputs": [
    {
     "name": "stdout",
     "output_type": "stream",
     "text": [
      "Initialized\n",
      "Minibatch loss at step 0: 840.294189\n",
      "Minibatch accuracy: 10.9%\n",
      "Validation accuracy: 29.3%\n",
      "Minibatch loss at step 500: 191.115906\n",
      "Minibatch accuracy: 100.0%\n",
      "Validation accuracy: 66.4%\n",
      "Minibatch loss at step 1000: 115.912750\n",
      "Minibatch accuracy: 100.0%\n",
      "Validation accuracy: 66.8%\n",
      "Minibatch loss at step 1500: 70.298790\n",
      "Minibatch accuracy: 100.0%\n",
      "Validation accuracy: 68.0%\n",
      "Minibatch loss at step 2000: 42.633568\n",
      "Minibatch accuracy: 100.0%\n",
      "Validation accuracy: 67.2%\n",
      "Minibatch loss at step 2500: 25.855991\n",
      "Minibatch accuracy: 100.0%\n",
      "Validation accuracy: 68.0%\n",
      "Minibatch loss at step 3000: 15.680863\n",
      "Minibatch accuracy: 100.0%\n",
      "Validation accuracy: 68.0%\n",
      "Test accuracy: 84.0%\n"
     ]
    }
   ],
   "source": [
    "# Use Dropout with regularization \n",
    "neural_network_model_train_test(batch_size, hidden_nodes, 1e-03, keep_training_prob=0.5)"
   ]
  },
  {
   "cell_type": "markdown",
   "metadata": {
    "colab_type": "text",
    "id": "-b1hTz3VWZjw"
   },
   "source": [
    "---\n",
    "Problem 4\n",
    "---------\n",
    "\n",
    "Try to get the best performance you can using a multi-layer model! The best reported test accuracy using a deep network is [97.1%](http://yaroslavvb.blogspot.com/2011/09/notmnist-dataset.html?showComment=1391023266211#c8758720086795711595).\n",
    "\n",
    "One avenue you can explore is to add multiple layers.\n",
    "\n",
    "Another one is to use learning rate decay:\n",
    "\n",
    "    global_step = tf.Variable(0)  # count the number of steps taken.\n",
    "    learning_rate = tf.train.exponential_decay(0.5, global_step, ...)\n",
    "    optimizer = tf.train.GradientDescentOptimizer(learning_rate).minimize(loss, global_step=global_step)\n",
    " \n",
    " ---\n"
   ]
  },
  {
   "cell_type": "code",
   "execution_count": 63,
   "metadata": {},
   "outputs": [],
   "source": [
    "# Restore original data\n",
    "train_dataset = train_dataset_original\n",
    "train_labels = train_labels_original\n",
    "valid_dataset = valid_dataset_original\n",
    "valid_labels = valid_labels_original\n",
    "test_dataset = test_dataset_original\n",
    "test_labels = test_labels_original"
   ]
  },
  {
   "cell_type": "code",
   "execution_count": 65,
   "metadata": {},
   "outputs": [],
   "source": [
    "# Neural network model with learning rate decay and a second hidden layer\n",
    "\n",
    "batch_size = 128\n",
    "hidden_nodes = 1024\n",
    "\n",
    "def graph_computation_layer1(inputs, weights_1, biases_1):\n",
    "    first_layer_out = tf.matmul(inputs, weights_1) + biases_1\n",
    "    relu_out = tf.nn.relu(first_layer_out)\n",
    "    return relu_out\n",
    "\n",
    "def graph_computation_layer2(inputs, weights_1, biases_1, weights_2, biases_2, labels=None, dropout_keep_pb=1):\n",
    "    first_layer_out = tf.matmul(inputs, weights_1) + biases_1\n",
    "    relu_out = tf.nn.relu(first_layer_out)\n",
    "    # use dropout: https://www.tensorflow.org/get_started/mnist/pros\n",
    "    # if dropout_keep_pb == 1, all elements in Tensor are kept, otherwise dropout is applied\n",
    "    dropout_out = tf.nn.dropout(relu_out, dropout_keep_pb)\n",
    "    logits = tf.matmul(dropout_out, weights_2) + biases_2\n",
    "    if labels is not None:\n",
    "        loss = tf.reduce_mean(tf.nn.softmax_cross_entropy_with_logits(labels=labels, logits=logits))\n",
    "        return logits, loss\n",
    "    return logits, _\n",
    "\n",
    "def neural_network_model2_train_test(batch_size, hidden_nodes, beta, keep_training_prob=1, num_steps=3001, lr0=None):\n",
    "    graph = tf.Graph()\n",
    "    with graph.as_default():\n",
    "      # Input data. For the training data, we use a placeholder that will be fed\n",
    "      # at run time with a training minibatch.\n",
    "      tf_train_dataset = tf.placeholder(tf.float32,\n",
    "                                        shape=(batch_size, image_size * image_size))\n",
    "      tf_train_labels = tf.placeholder(tf.float32, shape=(batch_size, num_labels))\n",
    "      tf_valid_dataset = tf.constant(valid_dataset)\n",
    "      tf_test_dataset = tf.constant(test_dataset)\n",
    "        \n",
    "      #dropout prob\n",
    "      keep_prob = tf.placeholder(tf.float32)\n",
    "\n",
    "      # Variables.\n",
    "      weights_1 = tf.Variable(\n",
    "        tf.truncated_normal([image_size * image_size, hidden_nodes]))\n",
    "      biases_1 = tf.Variable(tf.zeros([hidden_nodes]))\n",
    "    \n",
    "      hidden_nodes2 = int(hidden_nodes/2)\n",
    "      weights_2 = tf.Variable(\n",
    "        tf.truncated_normal([hidden_nodes, hidden_nodes2]))\n",
    "      biases_2 = tf.Variable(tf.zeros([hidden_nodes2]))\n",
    "\n",
    "      weights_3 = tf.Variable(\n",
    "        tf.truncated_normal([hidden_nodes2, num_labels]))\n",
    "      biases_3 = tf.Variable(tf.zeros([num_labels]))\n",
    "\n",
    "      # Training computation.\n",
    "      first_layer_out = graph_computation_layer1(tf_train_dataset, weights_1, biases_1)\n",
    "      logits, loss = graph_computation_layer2(first_layer_out, \n",
    "                                       weights_2, biases_2, weights_3, biases_3, \n",
    "                                       labels=tf_train_labels, dropout_keep_pb=keep_prob)\n",
    "      # regularization (if beta==0 we have no regularization term) \n",
    "      loss = loss + beta*tf.nn.l2_loss(weights_1) + beta*tf.nn.l2_loss(weights_2) + beta*tf.nn.l2_loss(weights_3)\n",
    "\n",
    "      # Optimizer.\n",
    "      if lr0 == None:\n",
    "        optimizer = tf.train.GradientDescentOptimizer(0.5).minimize(loss)\n",
    "      else:\n",
    "        global_step = tf.Variable(0)  # count the number of steps taken\n",
    "        learning_rate = tf.train.exponential_decay(lr0, global_step, 1000, 0.90, staircase=True)\n",
    "        optimizer = tf.train.GradientDescentOptimizer(learning_rate).minimize(loss, global_step=global_step)\n",
    "\n",
    "      # Predictions for the training, validation, and test data.\n",
    "      train_prediction = tf.nn.softmax(logits)\n",
    "      \n",
    "      partial_computation_v = graph_computation_layer1(tf_valid_dataset, weights_1, biases_1)\n",
    "      valid_logits, _ = graph_computation_layer2(partial_computation_v, \n",
    "                                          weights_2, biases_2, weights_3, biases_3)\n",
    "      valid_prediction = tf.nn.softmax(valid_logits)\n",
    "\n",
    "      partial_computation = graph_computation_layer1(tf_test_dataset, weights_1, biases_1)\n",
    "      test_logits, _ = graph_computation_layer2(partial_computation, \n",
    "                                          weights_2, biases_2, weights_3, biases_3)\n",
    "\n",
    "      test_prediction = tf.nn.softmax(test_logits)\n",
    "\n",
    "\n",
    "    config = tf.ConfigProto()\n",
    "    config.gpu_options.allow_growth = True\n",
    "    with tf.Session(graph=graph, config=config) as session:\n",
    "      tf.global_variables_initializer().run()\n",
    "      print(\"Initialized\")\n",
    "      for step in range(num_steps):\n",
    "        # Pick an offset within the training data, which has been randomized.\n",
    "        # Note: we could use better randomization across epochs.\n",
    "        offset = (step * batch_size) % (train_labels.shape[0] - batch_size)\n",
    "        # Generate a minibatch.\n",
    "        batch_data = train_dataset[offset:(offset + batch_size), :]\n",
    "        batch_labels = train_labels[offset:(offset + batch_size), :]\n",
    "        # Prepare a dictionary telling the session where to feed the minibatch.\n",
    "        # The key of the dictionary is the placeholder node of the graph to be fed,\n",
    "        # and the value is the numpy array to feed to it.\n",
    "        feed_dict = {tf_train_dataset : batch_data, tf_train_labels : batch_labels, keep_prob : keep_training_prob}\n",
    "        _, l, predictions = session.run(\n",
    "          [optimizer, loss, train_prediction], feed_dict=feed_dict)\n",
    "        if (step % 1000 == 0):\n",
    "          print(\"Minibatch loss at step %d: %f\" % (step, l))\n",
    "          print(\"Minibatch accuracy: %.1f%%\" % accuracy(predictions, batch_labels))\n",
    "          print(\"Validation accuracy: %.1f%%\" % accuracy(\n",
    "            valid_prediction.eval(), valid_labels))\n",
    "      print(\"Test accuracy: %.1f%%\" % accuracy(test_prediction.eval(), test_labels))"
   ]
  },
  {
   "cell_type": "code",
   "execution_count": 69,
   "metadata": {},
   "outputs": [
    {
     "name": "stdout",
     "output_type": "stream",
     "text": [
      "Initialized\n",
      "Minibatch loss at step 0: 6128.192383\n",
      "Minibatch accuracy: 11.7%\n",
      "Validation accuracy: 27.3%\n",
      "Minibatch loss at step 1000: 1578.643677\n",
      "Minibatch accuracy: 41.4%\n",
      "Validation accuracy: 36.6%\n",
      "Minibatch loss at step 2000: 1379.758789\n",
      "Minibatch accuracy: 31.2%\n",
      "Validation accuracy: 42.3%\n",
      "Minibatch loss at step 3000: 1221.810791\n",
      "Minibatch accuracy: 39.1%\n",
      "Validation accuracy: 44.4%\n",
      "Minibatch loss at step 4000: 1095.501709\n",
      "Minibatch accuracy: 48.4%\n",
      "Validation accuracy: 49.2%\n",
      "Minibatch loss at step 5000: 992.572266\n",
      "Minibatch accuracy: 57.0%\n",
      "Validation accuracy: 51.8%\n",
      "Minibatch loss at step 6000: 908.455261\n",
      "Minibatch accuracy: 55.5%\n",
      "Validation accuracy: 54.5%\n",
      "Minibatch loss at step 7000: 839.061157\n",
      "Minibatch accuracy: 53.9%\n",
      "Validation accuracy: 56.6%\n",
      "Minibatch loss at step 8000: 780.923035\n",
      "Minibatch accuracy: 59.4%\n",
      "Validation accuracy: 58.5%\n",
      "Minibatch loss at step 9000: 732.147461\n",
      "Minibatch accuracy: 57.0%\n",
      "Validation accuracy: 60.7%\n",
      "Test accuracy: 67.8%\n"
     ]
    }
   ],
   "source": [
    "# Additional hidden layer without exponential decay\n",
    "neural_network_model2_train_test(batch_size, hidden_nodes, 1e-03, keep_training_prob=1, num_steps=10000, lr0=0.075)"
   ]
  },
  {
   "cell_type": "code",
   "execution_count": null,
   "metadata": {},
   "outputs": [],
   "source": [
    "# Additional hidden layer WITH exponential decay\n",
    "neural_network_model2_train_test(batch_size, hidden_nodes, 1e-03, keep_training_prob=0.5, lr0=0.5)"
   ]
  },
  {
   "cell_type": "markdown",
   "metadata": {},
   "source": [
    "### Conclusion Problem 4\n",
    "\n",
    "Need to test different values for neural_network_model2_train_test input arguments, and also for tf.train.exponential_decay\n",
    "\n",
    "Deeper net --> more training steps, less learning rate, less beta (regularization parameter)"
   ]
  }
 ],
 "metadata": {
  "colab": {
   "default_view": {},
   "name": "3_regularization.ipynb",
   "provenance": [],
   "version": "0.3.2",
   "views": {}
  },
  "kernelspec": {
   "display_name": "gurus3",
   "language": "python",
   "name": "gurus3"
  },
  "language_info": {
   "codemirror_mode": {
    "name": "ipython",
    "version": 3
   },
   "file_extension": ".py",
   "mimetype": "text/x-python",
   "name": "python",
   "nbconvert_exporter": "python",
   "pygments_lexer": "ipython3",
   "version": "3.4.3"
  }
 },
 "nbformat": 4,
 "nbformat_minor": 1
}
