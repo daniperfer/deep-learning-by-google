{
 "cells": [
  {
   "cell_type": "markdown",
   "metadata": {},
   "source": [
    "#### In a `tf.Session`:\n",
    "\n",
    "- `.eval` is applied to **Tensor** evaluation (you can view it as a forward pass: known *inputs*, known *weights* --> produce an *outputs* prediction)\n",
    "\n",
    "- `.run` is applied to **Operations** (you can think of it as a backward pass: known *inputs*, known *outputs* --> produce a *weights* update)\n",
    "\n",
    "> *weights* are usually defined as `tf.Variables` (maintains state in the **Graph** across calls to `run()`)"
   ]
  }
 ],
 "metadata": {
  "kernelspec": {
   "display_name": "Python 3",
   "language": "python",
   "name": "python3"
  },
  "language_info": {
   "codemirror_mode": {
    "name": "ipython",
    "version": 3
   },
   "file_extension": ".py",
   "mimetype": "text/x-python",
   "name": "python",
   "nbconvert_exporter": "python",
   "pygments_lexer": "ipython3",
   "version": "3.4.3"
  }
 },
 "nbformat": 4,
 "nbformat_minor": 2
}
