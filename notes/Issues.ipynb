{
 "cells": [
  {
   "cell_type": "markdown",
   "metadata": {},
   "source": [
    "# Issues"
   ]
  },
  {
   "cell_type": "markdown",
   "metadata": {},
   "source": [
    "## 2017-11-18: \n",
    "In order to use virtual environment in Jupyter:\n",
    "http://help.pythonanywhere.com/pages/IPythonNotebookVirtualenvs\n",
    "\n",
    "This created file ```/usr/local/share/jupyter/kernels/gurus3/kernel.json``` as follows:\n",
    "\n",
    "```sh \n",
    "{\n",
    " \"display_name\": \"gurus3\", \n",
    " \"language\": \"python\", \n",
    " \"argv\": [\n",
    "  \"/usr/bin/python\", \n",
    "  \"-m\", \n",
    "  \"ipykernel_launcher\", \n",
    "  \"-f\", \n",
    "  \"{connection_file}\"\n",
    " ]\n",
    "}\n",
    "```\n",
    "\n",
    "But ```sys.executable``` provided a different output in Terminal than in Notebook:\n",
    "* Terminal: ```/home/dpereira/.virtualenvs/gurus3/bin/python```\n",
    "* Notebook: ```/usr/bin/python```\n",
    "\n",
    "So, in file ```/usr/local/share/jupyter/kernels/gurus3/kernel.json``` python path needed to be changed to:\n",
    "\n",
    "```sh \n",
    "{\n",
    " \"display_name\": \"gurus3\", \n",
    " \"language\": \"python\", \n",
    " \"argv\": [\n",
    "  \"/home/dpereira/.virtualenvs/gurus3/bin/python\", \n",
    "  \"-m\", \n",
    "  \"ipykernel_launcher\", \n",
    "  \"-f\", \n",
    "  \"{connection_file}\"\n",
    " ]\n",
    "}\n",
    "```"
   ]
  },
  {
   "cell_type": "code",
   "execution_count": null,
   "metadata": {},
   "outputs": [],
   "source": []
  }
 ],
 "metadata": {
  "kernelspec": {
   "display_name": "gurus3",
   "language": "python",
   "name": "gurus3"
  },
  "language_info": {
   "codemirror_mode": {
    "name": "ipython",
    "version": 3
   },
   "file_extension": ".py",
   "mimetype": "text/x-python",
   "name": "python",
   "nbconvert_exporter": "python",
   "pygments_lexer": "ipython3",
   "version": "3.4.3"
  }
 },
 "nbformat": 4,
 "nbformat_minor": 2
}
