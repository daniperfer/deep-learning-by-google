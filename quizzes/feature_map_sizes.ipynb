{
 "cells": [
  {
   "cell_type": "markdown",
   "metadata": {},
   "source": [
    "## Feature map sizes\n",
    "\n",
    "Input image is 28x28, 3 channels\n",
    "\n",
    "Kernel is 3x3, and we use 8 kernels\n",
    "\n",
    "What size is output feature map in the following cases?:\n",
    "\n",
    "* `padding = 'same', stride = 1` ==> (width, height, depth) = (28, 28, 8) \n",
    "* `padding = 'valid', stride = 1` ==> (width, height, depth) = (26, 26, 8)\n",
    "* `padding = 'valid', stride = 2` ==> (width, height, depth) = (13, 13, 8)"
   ]
  }
 ],
 "metadata": {
  "kernelspec": {
   "display_name": "gurus3",
   "language": "python",
   "name": "gurus3"
  },
  "language_info": {
   "codemirror_mode": {
    "name": "ipython",
    "version": 3
   },
   "file_extension": ".py",
   "mimetype": "text/x-python",
   "name": "python",
   "nbconvert_exporter": "python",
   "pygments_lexer": "ipython3",
   "version": "3.4.3"
  }
 },
 "nbformat": 4,
 "nbformat_minor": 2
}
